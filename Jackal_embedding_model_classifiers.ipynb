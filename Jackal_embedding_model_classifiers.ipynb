{
  "cells": [
    {
      "cell_type": "markdown",
      "metadata": {
        "id": "view-in-github",
        "colab_type": "text"
      },
      "source": [
        "<a href=\"https://colab.research.google.com/github/MrTyoom/Project-Jackal/blob/ml-experiments/Jackal_embedding_model_classifiers.ipynb\" target=\"_parent\"><img src=\"https://colab.research.google.com/assets/colab-badge.svg\" alt=\"Open In Colab\"/></a>"
      ]
    },
    {
      "cell_type": "markdown",
      "id": "epp-pRQX8hFl",
      "metadata": {
        "id": "epp-pRQX8hFl"
      },
      "source": [
        "## 0. Импорт датасета"
      ]
    },
    {
      "cell_type": "code",
      "execution_count": null,
      "id": "7292e5c4",
      "metadata": {
        "id": "7292e5c4"
      },
      "outputs": [],
      "source": [
        "import pandas as pd"
      ]
    },
    {
      "cell_type": "code",
      "execution_count": null,
      "id": "3a253fac",
      "metadata": {
        "id": "3a253fac"
      },
      "outputs": [],
      "source": [
        "df2 = pd.read_csv(r'first_command_new.csv')\n",
        "df = pd.read_csv(r'commands-w2v-version.csv')"
      ]
    },
    {
      "cell_type": "markdown",
      "id": "a0f6b13f-d321-4bf1-abcd-00b884f59f29",
      "metadata": {
        "id": "a0f6b13f-d321-4bf1-abcd-00b884f59f29"
      },
      "source": [
        "Переведем все текстовые интенты в лэйблы"
      ]
    },
    {
      "cell_type": "code",
      "execution_count": null,
      "id": "8e15330c-d3a9-4e3b-8600-775fc7ec6727",
      "metadata": {
        "id": "8e15330c-d3a9-4e3b-8600-775fc7ec6727"
      },
      "outputs": [],
      "source": [
        "from sklearn import preprocessing\n",
        "le = preprocessing.LabelEncoder()\n",
        "df['lables'] = le.fit_transform(df.intent)\n",
        "df2['lables'] = le.fit_transform(df2.intent)"
      ]
    },
    {
      "cell_type": "code",
      "execution_count": null,
      "id": "98b880e5",
      "metadata": {
        "id": "98b880e5"
      },
      "outputs": [],
      "source": [
        "df[:1]"
      ]
    },
    {
      "cell_type": "code",
      "execution_count": null,
      "id": "5439ddef-513a-4d75-bb30-df46d83e2fb6",
      "metadata": {
        "id": "5439ddef-513a-4d75-bb30-df46d83e2fb6"
      },
      "outputs": [],
      "source": [
        "df.lables"
      ]
    },
    {
      "cell_type": "markdown",
      "id": "b8d270a7-88c2-4659-8c2b-7524c821b7bb",
      "metadata": {
        "id": "b8d270a7-88c2-4659-8c2b-7524c821b7bb"
      },
      "source": [
        "## 1. Создание эмбеддингов"
      ]
    },
    {
      "cell_type": "markdown",
      "source": [
        "Далее представлены различные модели для создания эмбеддингов и сразу же обучение модели по ним с помощью CatBoost"
      ],
      "metadata": {
        "id": "h6hOZ-_gdtXQ"
      },
      "id": "h6hOZ-_gdtXQ"
    },
    {
      "cell_type": "markdown",
      "id": "f8bf8f11-0bcc-41b6-852d-969bc81947a4",
      "metadata": {
        "id": "f8bf8f11-0bcc-41b6-852d-969bc81947a4"
      },
      "source": [
        "### Word2vec"
      ]
    },
    {
      "cell_type": "markdown",
      "id": "dij-z9rPX7IR",
      "metadata": {
        "id": "dij-z9rPX7IR"
      },
      "source": [
        "Подготовка и реализация word2vec"
      ]
    },
    {
      "cell_type": "code",
      "execution_count": null,
      "id": "JGijKe4vIvic",
      "metadata": {
        "id": "JGijKe4vIvic"
      },
      "outputs": [],
      "source": [
        "import gensim\n",
        "import nltk\n",
        "nltk.download('punkt')\n",
        "from gensim.models import Word2Vec"
      ]
    },
    {
      "cell_type": "code",
      "execution_count": null,
      "id": "7Uhq5rGiK5KR",
      "metadata": {
        "id": "7Uhq5rGiK5KR"
      },
      "outputs": [],
      "source": [
        "def generate_dictinoary_data(text):\n",
        "    word_to_index= dict()\n",
        "    index_to_word = dict()\n",
        "    corpus = []\n",
        "    count = 0\n",
        "    vocab_size = 0\n",
        "    \n",
        "    for row in text:\n",
        "        for word in row.split():\n",
        "            word = word.lower()\n",
        "            corpus.append(word)\n",
        "            if word_to_index.get(word) == None:\n",
        "                word_to_index.update ( {word : count})\n",
        "                index_to_word.update ( {count : word })\n",
        "                count  += 1\n",
        "    vocab_size = len(word_to_index)\n",
        "    length_of_corpus = len(corpus)\n",
        "    \n",
        "    return word_to_index,index_to_word,corpus,vocab_size,length_of_corpus\n"
      ]
    },
    {
      "cell_type": "code",
      "execution_count": null,
      "id": "T7vu22v0LSGQ",
      "metadata": {
        "id": "T7vu22v0LSGQ"
      },
      "outputs": [],
      "source": [
        "#generate_dictinoary_data(df['command'])[0]"
      ]
    },
    {
      "cell_type": "code",
      "execution_count": null,
      "id": "zzrgZbC9IqoP",
      "metadata": {
        "id": "zzrgZbC9IqoP"
      },
      "outputs": [],
      "source": [
        "# get the text data from the CSV file\n",
        "text_data = df['command'].tolist()\n",
        "\n",
        "# preprocess the text data\n",
        "preprocessed_text_data = []\n",
        "for text in text_data:\n",
        "    text = text.lower()\n",
        "    text = nltk.word_tokenize(text)\n",
        "    preprocessed_text_data.append(text)\n",
        "\n",
        "# train a Word2Vec model on the preprocessed text data\n",
        "model = Word2Vec(preprocessed_text_data, vector_size = 100, window=5, min_count=1, workers=4)"
      ]
    },
    {
      "cell_type": "code",
      "execution_count": null,
      "id": "ybQsG-HpKIq6",
      "metadata": {
        "id": "ybQsG-HpKIq6"
      },
      "outputs": [],
      "source": [
        "# use the Word2Vec model to get word embeddings\n",
        "#embedding = model.wv['двигать']"
      ]
    },
    {
      "cell_type": "code",
      "execution_count": null,
      "id": "t06-d0DaItBR",
      "metadata": {
        "id": "t06-d0DaItBR"
      },
      "outputs": [],
      "source": [
        "#embedding"
      ]
    },
    {
      "cell_type": "markdown",
      "id": "lWYlKH_FX_BM",
      "metadata": {
        "id": "lWYlKH_FX_BM"
      },
      "source": [
        "Получили словарь слов из всех команд и вектор для каждого слова в словаре"
      ]
    },
    {
      "cell_type": "markdown",
      "id": "d5e043c8-bfc8-4832-abbc-d70cb4e420dd",
      "metadata": {
        "id": "d5e043c8-bfc8-4832-abbc-d70cb4e420dd"
      },
      "source": [
        "### SBERT"
      ]
    },
    {
      "cell_type": "markdown",
      "id": "5ZSd5vRqYECA",
      "metadata": {
        "id": "5ZSd5vRqYECA"
      },
      "source": [
        "Теперь сделаем эмбеддинги с помощью другой модели  — SBERT"
      ]
    },
    {
      "cell_type": "code",
      "execution_count": null,
      "id": "PFhAmpNo3sLj",
      "metadata": {
        "id": "PFhAmpNo3sLj"
      },
      "outputs": [],
      "source": [
        "!pip install sentence_transformers"
      ]
    },
    {
      "cell_type": "code",
      "execution_count": null,
      "id": "0JLNxNiSIs-6",
      "metadata": {
        "id": "0JLNxNiSIs-6"
      },
      "outputs": [],
      "source": [
        "from sentence_transformers import SentenceTransformer as SBERT\n",
        "sbert1 = SBERT('sberbank-ai/sbert_large_nlu_ru')\n"
      ]
    },
    {
      "cell_type": "code",
      "execution_count": null,
      "id": "sfjSGv8bIs6O",
      "metadata": {
        "id": "sfjSGv8bIs6O"
      },
      "outputs": [],
      "source": [
        "EMBEDDING = sbert1.encode([s for s in df.command])\n",
        "EMBEDDING2 = sbert1.encode([s for s in df2.command])"
      ]
    },
    {
      "cell_type": "markdown",
      "id": "OPJTE5m0YMzP",
      "metadata": {
        "id": "OPJTE5m0YMzP"
      },
      "source": [
        "Получили эмбеддинги из SBERT'a"
      ]
    },
    {
      "cell_type": "markdown",
      "id": "cnGLhyNEYRco",
      "metadata": {
        "id": "cnGLhyNEYRco"
      },
      "source": [
        "Получим модель из эмбеддингов с помощью Сatboost'a"
      ]
    },
    {
      "cell_type": "code",
      "execution_count": null,
      "id": "w7Zdvllm4SmO",
      "metadata": {
        "id": "w7Zdvllm4SmO"
      },
      "outputs": [],
      "source": [
        "!pip install catboost"
      ]
    },
    {
      "cell_type": "code",
      "execution_count": null,
      "id": "XJcclEi4ZPPc",
      "metadata": {
        "id": "XJcclEi4ZPPc"
      },
      "outputs": [],
      "source": [
        "import catboost\n",
        "from catboost import * "
      ]
    },
    {
      "cell_type": "code",
      "execution_count": null,
      "id": "8tZnk1YtJZAJ",
      "metadata": {
        "id": "8tZnk1YtJZAJ"
      },
      "outputs": [],
      "source": [
        "import numpy as np\n",
        "from sklearn.model_selection import train_test_split"
      ]
    },
    {
      "cell_type": "code",
      "execution_count": null,
      "id": "-KuxMDyVJY42",
      "metadata": {
        "id": "-KuxMDyVJY42"
      },
      "outputs": [],
      "source": [
        "from sklearn import preprocessing\n",
        "le = preprocessing.LabelEncoder()\n",
        "df['lables'] = le.fit_transform(df.intent)\n",
        "df2['lables'] = le.fit_transform(df2.intent)"
      ]
    },
    {
      "cell_type": "code",
      "execution_count": null,
      "id": "SY_-FZsfZwUG",
      "metadata": {
        "id": "SY_-FZsfZwUG"
      },
      "outputs": [],
      "source": [
        "X = df.drop(\"lables\", axis=1)\n",
        "y = df[\"lables\"]\n",
        "\n",
        "X2 = df2.drop(\"lables\", axis=1)\n",
        "y2 = df2[\"lables\"]"
      ]
    },
    {
      "cell_type": "code",
      "execution_count": null,
      "id": "sihirTUKJY9z",
      "metadata": {
        "id": "sihirTUKJY9z"
      },
      "outputs": [],
      "source": [
        "X_train, X_test, y_train, y_test = train_test_split(EMBEDDING, y, test_size=0.33, random_state=42)"
      ]
    },
    {
      "cell_type": "code",
      "execution_count": null,
      "id": "WRoaQBWtlSQo",
      "metadata": {
        "id": "WRoaQBWtlSQo"
      },
      "outputs": [],
      "source": [
        "X_train2, X_test2, y_train2, y_test2 = train_test_split(EMBEDDING2, y2, test_size=0.33, random_state=42)"
      ]
    },
    {
      "cell_type": "code",
      "execution_count": null,
      "id": "l23UbRXSTP7f",
      "metadata": {
        "id": "l23UbRXSTP7f"
      },
      "outputs": [],
      "source": [
        "from catboost import CatBoostClassifier\n",
        "\n",
        "\n",
        "model = CatBoostClassifier(iterations=100,\n",
        "                         learning_rate=0.2,\n",
        "                         depth=2, custom_loss=['AUC', 'Accuracy'])\n",
        "\n",
        "model.fit(X_train, y_train,\n",
        "         eval_set=(X_test, y_test),\n",
        "          verbose=50, plot=True\n",
        ")\n",
        "\n",
        "print(f\"Model is fitted: {str(model.is_fitted())}\")\n",
        "print(f\"Model params: {model.get_params()}\")\n"
      ]
    },
    {
      "cell_type": "code",
      "execution_count": null,
      "id": "D7MNGtgLlmO_",
      "metadata": {
        "id": "D7MNGtgLlmO_"
      },
      "outputs": [],
      "source": [
        "from catboost import CatBoostClassifier\n",
        "\n",
        "\n",
        "model = CatBoostClassifier(iterations=100,\n",
        "                         learning_rate=0.2,\n",
        "                         depth=2, custom_loss=['AUC', 'Accuracy'])\n",
        "\n",
        "model.fit(X_train2, y_train2,\n",
        "         eval_set=(X_test2, y_test2),\n",
        "          verbose=50, plot=True\n",
        ")\n",
        "\n",
        "print(f\"Model is fitted: {str(model.is_fitted())}\")\n",
        "print(f\"Model params: {model.get_params()}\")\n"
      ]
    },
    {
      "cell_type": "markdown",
      "id": "k1MAtsIQc3Au",
      "metadata": {
        "id": "k1MAtsIQc3Au"
      },
      "source": [
        "Еще модели для сравнения"
      ]
    },
    {
      "cell_type": "code",
      "execution_count": null,
      "id": "-PWeJJ3xc4lh",
      "metadata": {
        "id": "-PWeJJ3xc4lh"
      },
      "outputs": [],
      "source": [
        "model1 = CatBoostClassifier(\n",
        "    learning_rate=0.7,\n",
        "    iterations=100,\n",
        "    random_seed=63,\n",
        "    train_dir='learning_rate_0.7'\n",
        ")\n",
        "\n",
        "model2 = CatBoostClassifier(\n",
        "    learning_rate=0.01,\n",
        "    iterations=100,\n",
        "    random_seed=63,\n",
        "    train_dir='learning_rate_0.01'\n",
        ")\n",
        "\n",
        "model1.fit(\n",
        "    X_train, y_train,\n",
        "    eval_set=(X_test, y_test),\n",
        "    verbose=50\n",
        ")\n",
        "\n",
        "model2.fit(\n",
        "    X_train, y_train,\n",
        "    eval_set=(X_test, y_test),\n",
        "    verbose=50\n",
        ")"
      ]
    },
    {
      "cell_type": "code",
      "execution_count": null,
      "id": "PfHdFWT8l5W6",
      "metadata": {
        "id": "PfHdFWT8l5W6"
      },
      "outputs": [],
      "source": [
        "model3 = CatBoostClassifier(\n",
        "    learning_rate=0.7,\n",
        "    iterations=100,\n",
        "    random_seed=63,\n",
        "    train_dir='learning_rate_0.7'\n",
        ")\n",
        "\n",
        "model4 = CatBoostClassifier(\n",
        "    learning_rate=0.01,\n",
        "    iterations=100,\n",
        "    random_seed=63,\n",
        "    train_dir='learning_rate_0.01'\n",
        ")\n",
        "\n",
        "model3.fit(\n",
        "    X_train2, y_train2,\n",
        "    eval_set=(X_test2, y_test2),\n",
        "    verbose=50\n",
        ")\n",
        "\n",
        "model4.fit(\n",
        "    X_train2, y_train2,\n",
        "    eval_set=(X_test2, y_test2),\n",
        "    verbose=50\n",
        ")"
      ]
    },
    {
      "cell_type": "markdown",
      "id": "Tsip_efagXGp",
      "metadata": {
        "id": "Tsip_efagXGp"
      },
      "source": [
        "Теперь делаем predict"
      ]
    },
    {
      "cell_type": "code",
      "execution_count": null,
      "id": "RfOpT_BigY86",
      "metadata": {
        "id": "RfOpT_BigY86"
      },
      "outputs": [],
      "source": [
        "y_pred = model2.predict(X_test, \n",
        "        prediction_type='Class', \n",
        "        ntree_start=0, \n",
        "        ntree_end=0, \n",
        "        thread_count=-1,\n",
        "        verbose=None)"
      ]
    },
    {
      "cell_type": "code",
      "execution_count": null,
      "id": "tbzVNNuJmEP0",
      "metadata": {
        "id": "tbzVNNuJmEP0"
      },
      "outputs": [],
      "source": [
        "y_pred2 = model4.predict(X_test2, \n",
        "        prediction_type='Class', \n",
        "        ntree_start=0, \n",
        "        ntree_end=0, \n",
        "        thread_count=-1,\n",
        "        verbose=None)"
      ]
    },
    {
      "cell_type": "code",
      "execution_count": null,
      "id": "_XiQIgp4feR4",
      "metadata": {
        "id": "_XiQIgp4feR4"
      },
      "outputs": [],
      "source": [
        "from sklearn.metrics import confusion_matrix\n",
        "confusion_matrix(y_test, y_pred) "
      ]
    },
    {
      "cell_type": "markdown",
      "id": "1Dln5ycDhqnA",
      "metadata": {
        "id": "1Dln5ycDhqnA"
      },
      "source": [
        "Заметим, что классы: 0 — корабль влево, 1 — корабль вправо, 2 — ничего. Тогда пом матрице видно, что класс \"ничего\" никогда не определяется как лево/право (3я строчка матрицы), право было интерпретировано как ничего 2 раза, лево 1 (3й столбец матрицы.)\n",
        "\n",
        "При этом, ошибочное определение \"право\" как лево было в 20 случаях, наоборот в 50. \n",
        "\n",
        "Делаем вывод, что классы не различаются между собой."
      ]
    },
    {
      "cell_type": "markdown",
      "id": "ca1694a9-e641-49b1-97b4-11f37ef46ac5",
      "metadata": {
        "tags": [],
        "id": "ca1694a9-e641-49b1-97b4-11f37ef46ac5"
      },
      "source": [
        "### BERT"
      ]
    },
    {
      "cell_type": "code",
      "execution_count": null,
      "id": "d6fa4a23-451d-498e-be00-97f5ab9df6cb",
      "metadata": {
        "scrolled": true,
        "id": "d6fa4a23-451d-498e-be00-97f5ab9df6cb"
      },
      "outputs": [],
      "source": [
        "# загрузка библиотеки hugging face\n",
        "!pip install transformers"
      ]
    },
    {
      "cell_type": "markdown",
      "id": "83145219-b63b-46b5-86d5-f474c02e24d5",
      "metadata": {
        "tags": [],
        "id": "83145219-b63b-46b5-86d5-f474c02e24d5"
      },
      "source": [
        "#### cointegrated/rubert-tiny"
      ]
    },
    {
      "cell_type": "code",
      "execution_count": null,
      "id": "536c0e8a-de83-4786-bd17-e2bc7305e64f",
      "metadata": {
        "id": "536c0e8a-de83-4786-bd17-e2bc7305e64f"
      },
      "outputs": [],
      "source": [
        "from transformers import AutoTokenizer, AutoModelForPreTraining\n",
        "\n",
        "tokenizer = AutoTokenizer.from_pretrained(\"cointegrated/rubert-tiny\")\n",
        "\n",
        "model = AutoModelForPreTraining.from_pretrained(\"cointegrated/rubert-tiny\")"
      ]
    },
    {
      "cell_type": "markdown",
      "source": [
        "Создаем эмбеддинги"
      ],
      "metadata": {
        "id": "TdUeCq6fezkX"
      },
      "id": "TdUeCq6fezkX"
    },
    {
      "cell_type": "code",
      "execution_count": null,
      "id": "e0415af4-73d0-48af-b158-cab8a1ff5ebf",
      "metadata": {
        "id": "e0415af4-73d0-48af-b158-cab8a1ff5ebf"
      },
      "outputs": [],
      "source": [
        "sentences = df.command\n",
        "\n",
        "# Преобразование каждого предложения в эмбеддинг\n",
        "embeddings_rubert_tiny = []\n",
        "for sentence in sentences:\n",
        "    inputs = tokenizer(sentence, return_tensors=\"pt\")\n",
        "    outputs = model(**inputs)\n",
        "    last_hidden_state = outputs[0]  # замена строки\n",
        "    sentence_embedding = last_hidden_state.mean(dim=1).squeeze().tolist()\n",
        "    embeddings_rubert_tiny.append(sentence_embedding)\n",
        "\n",
        "# получили список списков"
      ]
    },
    {
      "cell_type": "markdown",
      "source": [
        "Визуализация классов эмбеддингов"
      ],
      "metadata": {
        "id": "M4sOYjoOe3Lo"
      },
      "id": "M4sOYjoOe3Lo"
    },
    {
      "cell_type": "code",
      "execution_count": null,
      "id": "91c64394",
      "metadata": {
        "id": "91c64394"
      },
      "outputs": [],
      "source": [
        "import numpy as np\n",
        "import matplotlib.pyplot as plt\n",
        "from sklearn.manifold import TSNE\n",
        "\n",
        "#  у нас есть эмбеддинги, хранящиеся в массиве embeddings, и метки классов, хранящиеся в массиве labels\n",
        "# embeddings должны иметь форму (количество объектов, размерность эмбеддинга)\n",
        "\n",
        "# задаем параметры t-SNE\n",
        "tsne = TSNE(n_components=2, random_state=42)\n",
        "\n",
        "# применяем t-SNE к эмбеддингам\n",
        "embeddings_rubert_tiny_tsne = tsne.fit_transform(embeddings_rubert_tiny)\n",
        "\n",
        "# задаем цвета для каждого класса\n",
        "color_dict = {0: 'red', 1: 'blue', 2: 'green'} # \n",
        "\n",
        "\n",
        "# создаем график\n",
        "fig, ax = plt.subplots(figsize=(10, 10))\n",
        "\n",
        "# для каждого класса рисуем точки соответствующего цвета\n",
        "for label in np.unique(df.lables):\n",
        "    mask = df.lables == label\n",
        "    ax.scatter(embeddings_rubert_tiny_tsne[mask, 0], embeddings_rubert_tiny_tsne[mask, 1], c=color_dict[label], label=label, alpha=0.7, s=100)\n",
        "\n",
        "ax.legend()\n",
        "ax.set_title('t-SNE visualization of embeddings')\n",
        "plt.show()\n"
      ]
    },
    {
      "cell_type": "code",
      "execution_count": null,
      "id": "114cda8e",
      "metadata": {
        "id": "114cda8e"
      },
      "outputs": [],
      "source": [
        "import numpy as np\n",
        "import matplotlib.pyplot as plt\n",
        "from mpl_toolkits.mplot3d import Axes3D\n",
        "\n",
        "# Ваш список списков эмбеддингов и список лэйблов\n",
        "embeddings = embeddings_rubert_tiny\n",
        "labels = df.lables\n",
        "\n",
        "# Создание 3D-графика\n",
        "fig = plt.figure(figsize=(10, 10))\n",
        "ax = fig.add_subplot(111, projection='3d')\n",
        "\n",
        "\n",
        "# Извлечение координат x, y, z из списка списков эмбеддингов\n",
        "x = [embedding[0] for embedding in embeddings]\n",
        "y = [embedding[1] for embedding in embeddings]\n",
        "z = [embedding[2] for embedding in embeddings]\n",
        "\n",
        "# Определение цвета точек на основании лейблов\n",
        "color_dict = {0: 'r', 1: 'b', 2: 'g'}\n",
        "colors = [color_dict[label] for label in labels]\n",
        "\n",
        "# Нанесение точек на график и задание цветов\n",
        "ax.scatter(x, y, z, c=colors)\n",
        "\n",
        "# Добавление легенды\n",
        "for label, color in color_dict.items():\n",
        "    ax.scatter([], [], [], c=color, label=label)\n",
        "ax.legend()\n",
        "\n",
        "# Отображение графика\n",
        "plt.show()\n"
      ]
    },
    {
      "cell_type": "code",
      "execution_count": null,
      "id": "8dc91869",
      "metadata": {
        "id": "8dc91869"
      },
      "outputs": [],
      "source": [
        "import plotly.graph_objs as go\n",
        "\n",
        "# Ваш список списков эмбеддингов и список лэйблов\n",
        "embeddings = embeddings_rubert_tiny\n",
        "labels = df.lables\n",
        "\n",
        "# Извлечение координат x, y, z из списка списков эмбеддингов\n",
        "x = [embedding[0] for embedding in embeddings]\n",
        "y = [embedding[1] for embedding in embeddings]\n",
        "z = [embedding[2] for embedding in embeddings]\n",
        "\n",
        "# Определение цвета точек на основании лейблов\n",
        "color_dict = {0: 'red', 1: 'blue', 2: 'green'}\n",
        "colors = [color_dict[label] for label in labels]\n",
        "\n",
        "# Создание трехмерного графика\n",
        "fig = go.Figure(data=[go.Scatter3d(x=x, y=y, z=z, mode='markers', marker=dict(color=colors, size=3))])\n",
        "\n",
        "# Добавление подписей к осям\n",
        "fig.update_layout(scene=dict(xaxis_title='X', yaxis_title='Y', zaxis_title='Z'))\n",
        "\n",
        "# Включение интерактивности и возможности вращения по всем осям\n",
        "fig.update_layout(scene_camera=dict(up=dict(x=0, y=0, z=1), eye=dict(x=0, y=1, z=1)))\n",
        "\n",
        "# Отображение графика\n",
        "fig.show()\n"
      ]
    },
    {
      "cell_type": "code",
      "execution_count": null,
      "id": "3761af98",
      "metadata": {
        "id": "3761af98"
      },
      "outputs": [],
      "source": []
    },
    {
      "cell_type": "markdown",
      "source": [
        "Разделим датасет на тестовую, валидационную и тренировочную выборки"
      ],
      "metadata": {
        "id": "k2VhaRZse8uV"
      },
      "id": "k2VhaRZse8uV"
    },
    {
      "cell_type": "code",
      "execution_count": null,
      "metadata": {
        "id": "kIYVfspoexe6"
      },
      "outputs": [],
      "source": [
        "from sklearn.model_selection import train_test_split\n",
        "\n",
        "X = embeddings_rubert_tiny # матрица признаков\n",
        "y = df.lables # вектор целевых переменных\n",
        "\n",
        "# Сначала разбиваем на train и test, с перемешиванием\n",
        "X_train, X_test, y_train, y_test = train_test_split(X, y, test_size=0.2, shuffle=True, random_state=42)\n",
        "\n",
        "# Далее разбиваем train на train и validation, с перемешиванием\n",
        "X_train, X_val, y_train, y_val = train_test_split(X_train, y_train, test_size=0.2, shuffle=True, random_state=42)"
      ],
      "id": "kIYVfspoexe6"
    },
    {
      "cell_type": "markdown",
      "source": [
        "Найдем оптимальные параметры с помощью Optuna"
      ],
      "metadata": {
        "id": "7QW5oyG0fBkg"
      },
      "id": "7QW5oyG0fBkg"
    },
    {
      "cell_type": "code",
      "source": [
        "!pip install Optuna"
      ],
      "metadata": {
        "id": "lNPiV_rMf_QO"
      },
      "id": "lNPiV_rMf_QO",
      "execution_count": null,
      "outputs": []
    },
    {
      "cell_type": "code",
      "source": [
        "!pip install catboost"
      ],
      "metadata": {
        "id": "Ctp6ZDomgHnt"
      },
      "id": "Ctp6ZDomgHnt",
      "execution_count": null,
      "outputs": []
    },
    {
      "cell_type": "code",
      "execution_count": null,
      "metadata": {
        "id": "u39mBnlPexe7"
      },
      "outputs": [],
      "source": [
        "import optuna\n",
        "import catboost as cb\n",
        "from catboost import CatBoostClassifier\n",
        "from sklearn.metrics import f1_score, make_scorer, accuracy_score\n",
        "from sklearn.model_selection import train_test_split\n",
        "from sklearn.utils import shuffle\n",
        "from sklearn.metrics import classification_report"
      ],
      "id": "u39mBnlPexe7"
    },
    {
      "cell_type": "code",
      "execution_count": null,
      "metadata": {
        "id": "WFAVXUsiexe7"
      },
      "outputs": [],
      "source": [
        "# Определяем функцию для оптимизации гиперпараметров\n",
        "def objective(trial):\n",
        "    params = {\n",
        "        'iterations': 1000,\n",
        "        'learning_rate': trial.suggest_float('learning_rate', 0.001, 0.1, log=True),\n",
        "        'depth': trial.suggest_int('depth', 2, 10),\n",
        "        'l2_leaf_reg': trial.suggest_float('l2_leaf_reg', 1e-5, 10, log=True),\n",
        "        'bagging_temperature': trial.suggest_float('bagging_temperature', 0.01, 100.0, log=True),\n",
        "        'random_strength': trial.suggest_float('random_strength', 1e-5, 10, log=True),\n",
        "        'border_count': trial.suggest_int('border_count', 5, 255),\n",
        "        'eval_metric': 'Accuracy',\n",
        "        'random_seed': 42,\n",
        "        'use_best_model': True,\n",
        "        'verbose': False,\n",
        "    }\n",
        "    \n",
        "    \n",
        "    # Создаем модель CatBoost и обучаем ее\n",
        "    model = CatBoostClassifier(**params, loss_function='MultiClass')   \n",
        "    model.fit(X_train, y_train, eval_set=[(X_test, y_test)], early_stopping_rounds=50, verbose=False)\n",
        "\n",
        "    # Вычисляем F1-меру на тестовой выборке\n",
        "    y_pred = model.predict(X_test)\n",
        "    score = f1_score(y_test, y_pred, average='macro')\n",
        "    \n",
        "    return score\n",
        "\n",
        "# Запускаем оптимизацию гиперпараметров с помощью Optuna\n",
        "study = optuna.create_study(direction='maximize')\n",
        "study.optimize(objective, n_trials=100)\n",
        "\n",
        "# Получаем лучшие параметры и обучаем модель на всех данных\n",
        "best_params = study.best_params\n",
        "\n",
        "# # Оцениваем качество модели на тестовой выборке\n",
        "# y_pred = model.predict(X_test)\n",
        "# accuracy = accuracy_score(y_test, y_pred)\n",
        "# print(f'Test accuracy: {accuracy:.3f}')\n",
        "\n",
        "print('Best hyperparameters: ', study.best_params)\n",
        "print('Best accuracy: ', study.best_value)\n"
      ],
      "id": "WFAVXUsiexe7"
    },
    {
      "cell_type": "markdown",
      "metadata": {
        "id": "_VP7aN2Dexe7"
      },
      "source": [
        "Вывоl optuna для модели выше: \n"
      ],
      "id": "_VP7aN2Dexe7"
    },
    {
      "cell_type": "markdown",
      "metadata": {
        "id": "VJXYpy5Qexe8"
      },
      "source": [
        "Построим модель по этим параметрам: "
      ],
      "id": "VJXYpy5Qexe8"
    },
    {
      "cell_type": "code",
      "execution_count": null,
      "metadata": {
        "id": "ZwEWED0Rexe8"
      },
      "outputs": [],
      "source": [
        "# Создаем модель с найденными гиперпараметрами # ЕЩЕ НЕ ПОДСТАВИЛА\n",
        "model_rubert_tiny = CatBoostClassifier(\n",
        "    learning_rate=0.06539173226910043,\n",
        "    depth=3,\n",
        "    l2_leaf_reg=2.4173397465978706e-05,\n",
        "    bagging_temperature=0.11366113651396821,\n",
        "    random_strength=0.0030236222243492385,\n",
        "    border_count=85,\n",
        "    eval_metric='Accuracy',\n",
        "    random_seed=42,\n",
        "    use_best_model=True,\n",
        "    verbose=False,\n",
        ")\n",
        "\n",
        "# Обучаем модель на тренировочной выборке\n",
        "model_rubert_tiny.fit(X_train, y_train, eval_set=(X_val, y_val))\n",
        "\n",
        "# Получаем предсказания на тестовой выборке\n",
        "y_pred_rubert_tiny = model_rubert_base.predict(X_test)\n",
        "\n",
        "# Оцениваем качество модели\n",
        "print(classification_report(y_test, y_pred))\n"
      ],
      "id": "ZwEWED0Rexe8"
    },
    {
      "cell_type": "code",
      "execution_count": null,
      "id": "fa79be8e",
      "metadata": {
        "id": "fa79be8e"
      },
      "outputs": [],
      "source": []
    },
    {
      "cell_type": "markdown",
      "id": "80d5ed81-a98b-4a56-aaa1-5592310950b1",
      "metadata": {
        "id": "80d5ed81-a98b-4a56-aaa1-5592310950b1"
      },
      "source": [
        "#### cointegrated/rubert-tiny2"
      ]
    },
    {
      "cell_type": "code",
      "execution_count": null,
      "id": "2614861f-2bb5-47b1-8a70-114e604a5fc3",
      "metadata": {
        "id": "2614861f-2bb5-47b1-8a70-114e604a5fc3"
      },
      "outputs": [],
      "source": [
        "from transformers import AutoTokenizer, AutoModelForPreTraining\n",
        "\n",
        "tokenizer = AutoTokenizer.from_pretrained(\"cointegrated/rubert-tiny2\")\n",
        "\n",
        "model = AutoModelForPreTraining.from_pretrained(\"cointegrated/rubert-tiny2\")"
      ]
    },
    {
      "cell_type": "code",
      "execution_count": null,
      "id": "901f4e28-1ce7-487c-9943-33a5a2d54ba4",
      "metadata": {
        "id": "901f4e28-1ce7-487c-9943-33a5a2d54ba4"
      },
      "outputs": [],
      "source": []
    },
    {
      "cell_type": "markdown",
      "source": [
        "Создаем эмбеддинги"
      ],
      "metadata": {
        "id": "7CA8iw3Gg2Dj"
      },
      "id": "7CA8iw3Gg2Dj"
    },
    {
      "cell_type": "code",
      "execution_count": null,
      "metadata": {
        "id": "sNrBVMjBg2Dk"
      },
      "outputs": [],
      "source": [
        "sentences = df.command\n",
        "\n",
        "# Преобразование каждого предложения в эмбеддинг\n",
        "embeddings_rubert_tiny = []\n",
        "for sentence in sentences:\n",
        "    inputs = tokenizer(sentence, return_tensors=\"pt\")\n",
        "    outputs = model(**inputs)\n",
        "    last_hidden_state = outputs[0]  # замена строки\n",
        "    sentence_embedding = last_hidden_state.mean(dim=1).squeeze().tolist()\n",
        "    embeddings_rubert_tiny.append(sentence_embedding)\n",
        "\n",
        "# получили список списков"
      ],
      "id": "sNrBVMjBg2Dk"
    },
    {
      "cell_type": "markdown",
      "source": [
        "Визуализация классов эмбеддингов"
      ],
      "metadata": {
        "id": "HJbRsGktg2Dk"
      },
      "id": "HJbRsGktg2Dk"
    },
    {
      "cell_type": "code",
      "execution_count": null,
      "metadata": {
        "id": "6nyfbXiWg2Dk"
      },
      "outputs": [],
      "source": [
        "import numpy as np\n",
        "import matplotlib.pyplot as plt\n",
        "from sklearn.manifold import TSNE\n",
        "\n",
        "#  у нас есть эмбеддинги, хранящиеся в массиве embeddings, и метки классов, хранящиеся в массиве labels\n",
        "# embeddings должны иметь форму (количество объектов, размерность эмбеддинга)\n",
        "\n",
        "# задаем параметры t-SNE\n",
        "tsne = TSNE(n_components=2, random_state=42)\n",
        "\n",
        "# применяем t-SNE к эмбеддингам\n",
        "embeddings_rubert_tiny_tsne = tsne.fit_transform(embeddings_rubert_tiny)\n",
        "\n",
        "# задаем цвета для каждого класса\n",
        "color_dict = {0: 'red', 1: 'blue', 2: 'green'} # \n",
        "\n",
        "\n",
        "# создаем график\n",
        "fig, ax = plt.subplots(figsize=(10, 10))\n",
        "\n",
        "# для каждого класса рисуем точки соответствующего цвета\n",
        "for label in np.unique(df.lables):\n",
        "    mask = df.lables == label\n",
        "    ax.scatter(embeddings_rubert_tiny_tsne[mask, 0], embeddings_rubert_tiny_tsne[mask, 1], c=color_dict[label], label=label, alpha=0.7, s=100)\n",
        "\n",
        "ax.legend()\n",
        "ax.set_title('t-SNE visualization of embeddings')\n",
        "plt.show()\n"
      ],
      "id": "6nyfbXiWg2Dk"
    },
    {
      "cell_type": "code",
      "execution_count": null,
      "metadata": {
        "id": "qfBpJly1g2Dk"
      },
      "outputs": [],
      "source": [
        "import numpy as np\n",
        "import matplotlib.pyplot as plt\n",
        "from mpl_toolkits.mplot3d import Axes3D\n",
        "\n",
        "# Ваш список списков эмбеддингов и список лэйблов\n",
        "embeddings = embeddings_rubert_tiny\n",
        "labels = df.lables\n",
        "\n",
        "# Создание 3D-графика\n",
        "fig = plt.figure(figsize=(10, 10))\n",
        "ax = fig.add_subplot(111, projection='3d')\n",
        "\n",
        "\n",
        "# Извлечение координат x, y, z из списка списков эмбеддингов\n",
        "x = [embedding[0] for embedding in embeddings]\n",
        "y = [embedding[1] for embedding in embeddings]\n",
        "z = [embedding[2] for embedding in embeddings]\n",
        "\n",
        "# Определение цвета точек на основании лейблов\n",
        "color_dict = {0: 'r', 1: 'b', 2: 'g'}\n",
        "colors = [color_dict[label] for label in labels]\n",
        "\n",
        "# Нанесение точек на график и задание цветов\n",
        "ax.scatter(x, y, z, c=colors)\n",
        "\n",
        "# Добавление легенды\n",
        "for label, color in color_dict.items():\n",
        "    ax.scatter([], [], [], c=color, label=label)\n",
        "ax.legend()\n",
        "\n",
        "# Отображение графика\n",
        "plt.show()\n"
      ],
      "id": "qfBpJly1g2Dk"
    },
    {
      "cell_type": "code",
      "execution_count": null,
      "metadata": {
        "id": "En4gnYarg2Dk"
      },
      "outputs": [],
      "source": [
        "import plotly.graph_objs as go\n",
        "\n",
        "# Ваш список списков эмбеддингов и список лэйблов\n",
        "embeddings = embeddings_rubert_tiny\n",
        "labels = df.lables\n",
        "\n",
        "# Извлечение координат x, y, z из списка списков эмбеддингов\n",
        "x = [embedding[0] for embedding in embeddings]\n",
        "y = [embedding[1] for embedding in embeddings]\n",
        "z = [embedding[2] for embedding in embeddings]\n",
        "\n",
        "# Определение цвета точек на основании лейблов\n",
        "color_dict = {0: 'red', 1: 'blue', 2: 'green'}\n",
        "colors = [color_dict[label] for label in labels]\n",
        "\n",
        "# Создание трехмерного графика\n",
        "fig = go.Figure(data=[go.Scatter3d(x=x, y=y, z=z, mode='markers', marker=dict(color=colors, size=3))])\n",
        "\n",
        "# Добавление подписей к осям\n",
        "fig.update_layout(scene=dict(xaxis_title='X', yaxis_title='Y', zaxis_title='Z'))\n",
        "\n",
        "# Включение интерактивности и возможности вращения по всем осям\n",
        "fig.update_layout(scene_camera=dict(up=dict(x=0, y=0, z=1), eye=dict(x=0, y=1, z=1)))\n",
        "\n",
        "# Отображение графика\n",
        "fig.show()\n"
      ],
      "id": "En4gnYarg2Dk"
    },
    {
      "cell_type": "code",
      "execution_count": null,
      "metadata": {
        "id": "MtZ54jAOg2Dk"
      },
      "outputs": [],
      "source": [],
      "id": "MtZ54jAOg2Dk"
    },
    {
      "cell_type": "markdown",
      "source": [
        "Разделим датасет на тестовую, валидационную и тренировочную выборки"
      ],
      "metadata": {
        "id": "sHlZ7yf3g2Dl"
      },
      "id": "sHlZ7yf3g2Dl"
    },
    {
      "cell_type": "code",
      "execution_count": null,
      "metadata": {
        "id": "5xJi1hkEg2Dl"
      },
      "outputs": [],
      "source": [
        "from sklearn.model_selection import train_test_split\n",
        "\n",
        "X = embeddings_rubert_tiny # матрица признаков\n",
        "y = df.lables # вектор целевых переменных\n",
        "\n",
        "# Сначала разбиваем на train и test, с перемешиванием\n",
        "X_train, X_test, y_train, y_test = train_test_split(X, y, test_size=0.2, shuffle=True, random_state=42)\n",
        "\n",
        "# Далее разбиваем train на train и validation, с перемешиванием\n",
        "X_train, X_val, y_train, y_val = train_test_split(X_train, y_train, test_size=0.2, shuffle=True, random_state=42)"
      ],
      "id": "5xJi1hkEg2Dl"
    },
    {
      "cell_type": "markdown",
      "source": [
        "Найдем оптимальные параметры с помощью Optuna"
      ],
      "metadata": {
        "id": "fdwYevKKg2Dl"
      },
      "id": "fdwYevKKg2Dl"
    },
    {
      "cell_type": "code",
      "execution_count": null,
      "metadata": {
        "id": "LE59iyI4g2Dl"
      },
      "outputs": [],
      "source": [
        "# Определяем функцию для оптимизации гиперпараметров\n",
        "def objective(trial):\n",
        "    params = {\n",
        "        'iterations': 1000,\n",
        "        'learning_rate': trial.suggest_float('learning_rate', 0.001, 0.1, log=True),\n",
        "        'depth': trial.suggest_int('depth', 2, 10),\n",
        "        'l2_leaf_reg': trial.suggest_float('l2_leaf_reg', 1e-5, 10, log=True),\n",
        "        'bagging_temperature': trial.suggest_float('bagging_temperature', 0.01, 100.0, log=True),\n",
        "        'random_strength': trial.suggest_float('random_strength', 1e-5, 10, log=True),\n",
        "        'border_count': trial.suggest_int('border_count', 5, 255),\n",
        "        'eval_metric': 'Accuracy',\n",
        "        'random_seed': 42,\n",
        "        'use_best_model': True,\n",
        "        'verbose': False,\n",
        "    }\n",
        "    \n",
        "    \n",
        "    # Создаем модель CatBoost и обучаем ее\n",
        "    model = CatBoostClassifier(**params, loss_function='MultiClass')   \n",
        "    model.fit(X_train, y_train, eval_set=[(X_test, y_test)], early_stopping_rounds=50, verbose=False)\n",
        "\n",
        "    # Вычисляем F1-меру на тестовой выборке\n",
        "    y_pred = model.predict(X_test)\n",
        "    score = f1_score(y_test, y_pred, average='macro')\n",
        "    \n",
        "    return score\n",
        "\n",
        "# Запускаем оптимизацию гиперпараметров с помощью Optuna\n",
        "study = optuna.create_study(direction='maximize')\n",
        "study.optimize(objective, n_trials=100)\n",
        "\n",
        "# Получаем лучшие параметры и обучаем модель на всех данных\n",
        "best_params = study.best_params\n",
        "\n",
        "# # Оцениваем качество модели на тестовой выборке\n",
        "# y_pred = model.predict(X_test)\n",
        "# accuracy = accuracy_score(y_test, y_pred)\n",
        "# print(f'Test accuracy: {accuracy:.3f}')\n",
        "\n",
        "print('Best hyperparameters: ', study.best_params)\n",
        "print('Best accuracy: ', study.best_value)\n"
      ],
      "id": "LE59iyI4g2Dl"
    },
    {
      "cell_type": "markdown",
      "metadata": {
        "id": "6mSK8Xccg2Dl"
      },
      "source": [
        "Вывоl optuna для модели выше: \n"
      ],
      "id": "6mSK8Xccg2Dl"
    },
    {
      "cell_type": "markdown",
      "metadata": {
        "id": "h0yh-yuOg2Dl"
      },
      "source": [
        "Построим модель по этим параметрам: "
      ],
      "id": "h0yh-yuOg2Dl"
    },
    {
      "cell_type": "code",
      "execution_count": null,
      "metadata": {
        "id": "-3PVW2ksg2Dm"
      },
      "outputs": [],
      "source": [
        "# Создаем модель с найденными гиперпараметрами //ЕЩЕ НЕ ПОДСТАВИЛА\n",
        "model_rubert_tiny = CatBoostClassifier(\n",
        "    learning_rate=0.06539173226910043,\n",
        "    depth=3,\n",
        "    l2_leaf_reg=2.4173397465978706e-05,\n",
        "    bagging_temperature=0.11366113651396821,\n",
        "    random_strength=0.0030236222243492385,\n",
        "    border_count=85,\n",
        "    eval_metric='Accuracy',\n",
        "    random_seed=42,\n",
        "    use_best_model=True,\n",
        "    verbose=False,\n",
        ")\n",
        "\n",
        "# Обучаем модель на тренировочной выборке\n",
        "model_rubert_tiny.fit(X_train, y_train, eval_set=(X_val, y_val))\n",
        "\n",
        "# Получаем предсказания на тестовой выборке\n",
        "y_pred_rubert_tiny = model_rubert_base.predict(X_test)\n",
        "\n",
        "# Оцениваем качество модели\n",
        "print(classification_report(y_test, y_pred))\n"
      ],
      "id": "-3PVW2ksg2Dm"
    },
    {
      "cell_type": "code",
      "execution_count": null,
      "metadata": {
        "id": "gQ_xU3Bwg2Dm"
      },
      "outputs": [],
      "source": [],
      "id": "gQ_xU3Bwg2Dm"
    },
    {
      "cell_type": "code",
      "source": [],
      "metadata": {
        "id": "vXveUgFIgrAD"
      },
      "id": "vXveUgFIgrAD",
      "execution_count": null,
      "outputs": []
    },
    {
      "cell_type": "code",
      "source": [],
      "metadata": {
        "id": "bQnStjIZgq-A"
      },
      "id": "bQnStjIZgq-A",
      "execution_count": null,
      "outputs": []
    },
    {
      "cell_type": "code",
      "source": [],
      "metadata": {
        "id": "6DYSZM3_gq8K"
      },
      "id": "6DYSZM3_gq8K",
      "execution_count": null,
      "outputs": []
    },
    {
      "cell_type": "code",
      "source": [],
      "metadata": {
        "id": "fg5CNSx_gq6C"
      },
      "id": "fg5CNSx_gq6C",
      "execution_count": null,
      "outputs": []
    },
    {
      "cell_type": "code",
      "source": [],
      "metadata": {
        "id": "NfxeAH9kgqwO"
      },
      "id": "NfxeAH9kgqwO",
      "execution_count": null,
      "outputs": []
    },
    {
      "cell_type": "code",
      "source": [],
      "metadata": {
        "id": "2CXYzb8lgqt2"
      },
      "id": "2CXYzb8lgqt2",
      "execution_count": null,
      "outputs": []
    },
    {
      "cell_type": "code",
      "source": [],
      "metadata": {
        "id": "qXdjYaoagqrw"
      },
      "id": "qXdjYaoagqrw",
      "execution_count": null,
      "outputs": []
    },
    {
      "cell_type": "code",
      "source": [],
      "metadata": {
        "id": "Rp3X-IL6gqpY"
      },
      "id": "Rp3X-IL6gqpY",
      "execution_count": null,
      "outputs": []
    },
    {
      "cell_type": "code",
      "source": [],
      "metadata": {
        "id": "CmR_4k96gqnC"
      },
      "id": "CmR_4k96gqnC",
      "execution_count": null,
      "outputs": []
    },
    {
      "cell_type": "code",
      "source": [],
      "metadata": {
        "id": "Yp30fE8jgqgx"
      },
      "id": "Yp30fE8jgqgx",
      "execution_count": null,
      "outputs": []
    },
    {
      "cell_type": "code",
      "source": [],
      "metadata": {
        "id": "kYru9WESgqYu"
      },
      "id": "kYru9WESgqYu",
      "execution_count": null,
      "outputs": []
    },
    {
      "cell_type": "markdown",
      "id": "cae544a0-d153-4f99-aae3-7cd6ea1c0103",
      "metadata": {
        "id": "cae544a0-d153-4f99-aae3-7cd6ea1c0103"
      },
      "source": [
        "#### DeepPavlov/rubert-base-cased"
      ]
    },
    {
      "cell_type": "code",
      "execution_count": null,
      "id": "11b13e94-685e-4c23-be8b-1c8c00b226b1",
      "metadata": {
        "id": "11b13e94-685e-4c23-be8b-1c8c00b226b1"
      },
      "outputs": [],
      "source": [
        "from transformers import AutoTokenizer, AutoModel\n",
        "\n",
        "# Загрузка токенизатора и модели\n",
        "from transformers import AutoTokenizer, AutoModel\n",
        "\n",
        "tokenizer = AutoTokenizer.from_pretrained(\"DeepPavlov/rubert-base-cased\")\n",
        "\n",
        "model = AutoModel.from_pretrained(\"DeepPavlov/rubert-base-cased\")\n"
      ]
    },
    {
      "cell_type": "code",
      "execution_count": null,
      "id": "5ea59ccd-c626-4e80-b6a1-44bc33db681d",
      "metadata": {
        "id": "5ea59ccd-c626-4e80-b6a1-44bc33db681d"
      },
      "outputs": [],
      "source": [
        "sentences = df.command\n",
        "\n",
        "# Преобразование каждого предложения в эмбеддинг\n",
        "embeddings_rubert_base = []\n",
        "for sentence in sentences:\n",
        "    inputs = tokenizer(sentence, return_tensors=\"pt\")\n",
        "    outputs = model(**inputs)\n",
        "    last_hidden_state = outputs.last_hidden_state\n",
        "    sentence_embedding = last_hidden_state.mean(dim=1).squeeze().tolist()\n",
        "    embeddings_rubert_base.append(sentence_embedding)\n",
        "\n",
        "# получили список списков"
      ]
    },
    {
      "cell_type": "code",
      "execution_count": null,
      "id": "331f87d1-340c-4da6-aab3-5e868953b65c",
      "metadata": {
        "id": "331f87d1-340c-4da6-aab3-5e868953b65c"
      },
      "outputs": [],
      "source": [
        "import numpy as np\n",
        "import matplotlib.pyplot as plt\n",
        "from sklearn.manifold import TSNE\n",
        "\n",
        "#  у нас есть эмбеддинги, хранящиеся в массиве embeddings, и метки классов, хранящиеся в массиве labels\n",
        "# embeddings должны иметь форму (количество объектов, размерность эмбеддинга)\n",
        "\n",
        "# задаем параметры t-SNE\n",
        "tsne = TSNE(n_components=2, random_state=42)\n",
        "\n",
        "# применяем t-SNE к эмбеддингам\n",
        "embeddings_rubert_case_tsne = tsne.fit_transform(embeddings_rubert_base)\n",
        "\n",
        "# задаем цвета для каждого класса\n",
        "color_dict = {0: 'red', 1: 'blue', 2: 'green'} # \n",
        "\n",
        "\n",
        "# создаем график\n",
        "fig, ax = plt.subplots(figsize=(10, 10))\n",
        "\n",
        "# для каждого класса рисуем точки соответствующего цвета\n",
        "for label in np.unique(df.lables):\n",
        "    mask = df.lables == label\n",
        "    ax.scatter(embeddings_rubert_case_tsne[mask, 0], embeddings_rubert_case_tsne[mask, 1], c=color_dict[label], label=label, alpha=0.7, s=100)\n",
        "\n",
        "ax.legend()\n",
        "ax.set_title('t-SNE visualization of embeddings')\n",
        "plt.show()\n"
      ]
    },
    {
      "cell_type": "markdown",
      "id": "368c9718-6519-4ced-824c-06b579dc9698",
      "metadata": {
        "id": "368c9718-6519-4ced-824c-06b579dc9698"
      },
      "source": [
        "3д график с кручением ползунком:"
      ]
    },
    {
      "cell_type": "code",
      "execution_count": null,
      "id": "b963dfb2-7962-4450-b009-24a2b7635b29",
      "metadata": {
        "scrolled": true,
        "id": "b963dfb2-7962-4450-b009-24a2b7635b29"
      },
      "outputs": [],
      "source": [
        "import numpy as np\n",
        "import matplotlib.pyplot as plt\n",
        "from mpl_toolkits.mplot3d import Axes3D\n",
        "\n",
        "# Ваш список списков эмбеддингов и список лэйблов\n",
        "embeddings = embeddings_rubert_base\n",
        "labels = df.lables\n",
        "\n",
        "# Создание 3D-графика\n",
        "fig = plt.figure(figsize=(10, 10))\n",
        "ax = fig.add_subplot(111, projection='3d')\n",
        "\n",
        "\n",
        "# Извлечение координат x, y, z из списка списков эмбеддингов\n",
        "x = [embedding[0] for embedding in embeddings]\n",
        "y = [embedding[1] for embedding in embeddings]\n",
        "z = [embedding[2] for embedding in embeddings]\n",
        "\n",
        "# Определение цвета точек на основании лейблов\n",
        "color_dict = {0: 'r', 1: 'b', 2: 'g'}\n",
        "colors = [color_dict[label] for label in labels]\n",
        "\n",
        "# Нанесение точек на график и задание цветов\n",
        "ax.scatter(x, y, z, c=colors)\n",
        "\n",
        "# Добавление легенды\n",
        "for label, color in color_dict.items():\n",
        "    ax.scatter([], [], [], c=color, label=label)\n",
        "ax.legend()\n",
        "\n",
        "# Отображение графика\n",
        "plt.show()\n"
      ]
    },
    {
      "cell_type": "markdown",
      "id": "cd9dcd88-5884-4013-9a8e-764067086791",
      "metadata": {
        "id": "cd9dcd88-5884-4013-9a8e-764067086791"
      },
      "source": [
        "3д график с кручением мышкой:"
      ]
    },
    {
      "cell_type": "code",
      "execution_count": null,
      "id": "2839b3f0-9bad-486a-8f48-82d9f628ca25",
      "metadata": {
        "id": "2839b3f0-9bad-486a-8f48-82d9f628ca25"
      },
      "outputs": [],
      "source": [
        "import plotly.graph_objs as go\n",
        "\n",
        "# Ваш список списков эмбеддингов и список лэйблов\n",
        "embeddings = embeddings_rubert_base\n",
        "labels = df.lables\n",
        "\n",
        "# Извлечение координат x, y, z из списка списков эмбеддингов\n",
        "x = [embedding[0] for embedding in embeddings]\n",
        "y = [embedding[1] for embedding in embeddings]\n",
        "z = [embedding[2] for embedding in embeddings]\n",
        "\n",
        "# Определение цвета точек на основании лейблов\n",
        "color_dict = {0: 'red', 1: 'blue', 2: 'green'}\n",
        "colors = [color_dict[label] for label in labels]\n",
        "\n",
        "# Создание трехмерного графика\n",
        "fig = go.Figure(data=[go.Scatter3d(x=x, y=y, z=z, mode='markers', marker=dict(color=colors, size=3))])\n",
        "\n",
        "# Добавление подписей к осям\n",
        "fig.update_layout(scene=dict(xaxis_title='X', yaxis_title='Y', zaxis_title='Z'))\n",
        "\n",
        "# Включение интерактивности и возможности вращения по всем осям\n",
        "fig.update_layout(scene_camera=dict(up=dict(x=0, y=0, z=1), eye=dict(x=0, y=1, z=1)))\n",
        "\n",
        "# Отображение графика\n",
        "fig.show()\n"
      ]
    },
    {
      "cell_type": "code",
      "execution_count": null,
      "id": "25ac56d2-9d18-4be6-a654-73b518e42fc2",
      "metadata": {
        "id": "25ac56d2-9d18-4be6-a654-73b518e42fc2"
      },
      "outputs": [],
      "source": []
    },
    {
      "cell_type": "code",
      "execution_count": null,
      "id": "1d4284fd-0b86-4389-bd44-e7cbc033a76c",
      "metadata": {
        "id": "1d4284fd-0b86-4389-bd44-e7cbc033a76c"
      },
      "outputs": [],
      "source": [
        "from sklearn.model_selection import train_test_split\n",
        "\n",
        "X = embeddings_rubert_base # матрица признаков\n",
        "y = df.lables # вектор целевых переменных\n",
        "\n",
        "# Сначала разбиваем на train и test, с перемешиванием\n",
        "X_train, X_test, y_train, y_test = train_test_split(X, y, test_size=0.2, shuffle=True, random_state=42)\n",
        "\n",
        "# Далее разбиваем train на train и validation, с перемешиванием\n",
        "X_train, X_val, y_train, y_val = train_test_split(X_train, y_train, test_size=0.2, shuffle=True, random_state=42)"
      ]
    },
    {
      "cell_type": "code",
      "execution_count": null,
      "id": "791d9c0a-9cbb-410a-81bc-4f841f40410b",
      "metadata": {
        "id": "791d9c0a-9cbb-410a-81bc-4f841f40410b"
      },
      "outputs": [],
      "source": [
        "import optuna\n",
        "import catboost as cb\n",
        "from catboost import CatBoostClassifier\n",
        "from sklearn.metrics import f1_score, make_scorer, accuracy_score\n",
        "from sklearn.model_selection import train_test_split\n",
        "from sklearn.utils import shuffle\n",
        "from sklearn.metrics import classification_report"
      ]
    },
    {
      "cell_type": "code",
      "execution_count": null,
      "id": "7b019b9a-7cfa-4407-aac5-1cfe99147bff",
      "metadata": {
        "id": "7b019b9a-7cfa-4407-aac5-1cfe99147bff"
      },
      "outputs": [],
      "source": [
        "# Определяем функцию для оптимизации гиперпараметров\n",
        "def objective(trial):\n",
        "    params = {\n",
        "        'iterations': 1000,\n",
        "        'learning_rate': trial.suggest_float('learning_rate', 0.001, 0.1, log=True),\n",
        "        'depth': trial.suggest_int('depth', 2, 10),\n",
        "        'l2_leaf_reg': trial.suggest_float('l2_leaf_reg', 1e-5, 10, log=True),\n",
        "        'bagging_temperature': trial.suggest_float('bagging_temperature', 0.01, 100.0, log=True),\n",
        "        'random_strength': trial.suggest_float('random_strength', 1e-5, 10, log=True),\n",
        "        'border_count': trial.suggest_int('border_count', 5, 255),\n",
        "        'eval_metric': 'Accuracy',\n",
        "        'random_seed': 42,\n",
        "        'use_best_model': True,\n",
        "        'verbose': False,\n",
        "    }\n",
        "    \n",
        "    \n",
        "    # Создаем модель CatBoost и обучаем ее\n",
        "    model = CatBoostClassifier(**params, loss_function='MultiClass')   \n",
        "    model.fit(X_train, y_train, eval_set=[(X_test, y_test)], early_stopping_rounds=50, verbose=False)\n",
        "\n",
        "    # Вычисляем F1-меру на тестовой выборке\n",
        "    y_pred = model.predict(X_test)\n",
        "    score = f1_score(y_test, y_pred, average='macro')\n",
        "    \n",
        "    return score\n",
        "\n",
        "# Запускаем оптимизацию гиперпараметров с помощью Optuna\n",
        "study = optuna.create_study(direction='maximize')\n",
        "study.optimize(objective, n_trials=100)\n",
        "\n",
        "# Получаем лучшие параметры и обучаем модель на всех данных\n",
        "best_params = study.best_params\n",
        "\n",
        "# # Оцениваем качество модели на тестовой выборке\n",
        "# y_pred = model.predict(X_test)\n",
        "# accuracy = accuracy_score(y_test, y_pred)\n",
        "# print(f'Test accuracy: {accuracy:.3f}')\n",
        "\n",
        "print('Best hyperparameters: ', study.best_params)\n",
        "print('Best accuracy: ', study.best_value)\n"
      ]
    },
    {
      "cell_type": "markdown",
      "id": "16a547ce-3fca-4872-8273-82af295ebb63",
      "metadata": {
        "id": "16a547ce-3fca-4872-8273-82af295ebb63"
      },
      "source": [
        "Вывоl optuna для модели выше: \n",
        "\"Best hyperparameters:  {'learning_rate': 0.06539173226910043, 'depth': 3, 'l2_leaf_reg': 2.4173397465978706e-05, 'bagging_temperature': 0.11366113651396821, 'random_strength': 0.0030236222243492385, 'border_count': 85}\n",
        "Best accuracy:  0.8583546244251407\""
      ]
    },
    {
      "cell_type": "markdown",
      "id": "21f13507-78de-4898-9110-dd3e51b2519b",
      "metadata": {
        "id": "21f13507-78de-4898-9110-dd3e51b2519b"
      },
      "source": [
        "Построим модель по этим параметрам: "
      ]
    },
    {
      "cell_type": "code",
      "execution_count": null,
      "id": "6cadc518-51bd-47f8-8b3e-8cf6d3e56886",
      "metadata": {
        "id": "6cadc518-51bd-47f8-8b3e-8cf6d3e56886"
      },
      "outputs": [],
      "source": [
        "# Создаем модель с найденными гиперпараметрами\n",
        "model_rubert_base = CatBoostClassifier(\n",
        "    learning_rate=0.06539173226910043,\n",
        "    depth=3,\n",
        "    l2_leaf_reg=2.4173397465978706e-05,\n",
        "    bagging_temperature=0.11366113651396821,\n",
        "    random_strength=0.0030236222243492385,\n",
        "    border_count=85,\n",
        "    eval_metric='Accuracy',\n",
        "    random_seed=42,\n",
        "    use_best_model=True,\n",
        "    verbose=False,\n",
        ")\n",
        "\n",
        "# Обучаем модель на тренировочной выборке\n",
        "model_rubert_base.fit(X_train, y_train, eval_set=(X_val, y_val))\n",
        "\n",
        "# Получаем предсказания на тестовой выборке\n",
        "y_pred_rubert_case = model_rubert_base.predict(X_test)\n",
        "\n",
        "# Оцениваем качество модели\n",
        "print(classification_report(y_test, y_pred))\n"
      ]
    },
    {
      "cell_type": "code",
      "execution_count": null,
      "id": "1e47111a-2e2e-46f4-92b2-d2b93faf1d9e",
      "metadata": {
        "id": "1e47111a-2e2e-46f4-92b2-d2b93faf1d9e"
      },
      "outputs": [],
      "source": []
    },
    {
      "cell_type": "code",
      "execution_count": null,
      "id": "5c013704-31b0-4bf5-a0dc-fe02cd697425",
      "metadata": {
        "id": "5c013704-31b0-4bf5-a0dc-fe02cd697425"
      },
      "outputs": [],
      "source": []
    },
    {
      "cell_type": "markdown",
      "id": "9qCyZESyhfnY",
      "metadata": {
        "id": "9qCyZESyhfnY"
      },
      "source": [
        "## 2. Обучение моделей на основе полученных эмбеддингов"
      ]
    },
    {
      "cell_type": "code",
      "execution_count": null,
      "id": "ZGr8eakRV8RH",
      "metadata": {
        "id": "ZGr8eakRV8RH"
      },
      "outputs": [],
      "source": []
    }
  ],
  "metadata": {
    "accelerator": "GPU",
    "colab": {
      "private_outputs": true,
      "provenance": [],
      "collapsed_sections": [
        "d5e043c8-bfc8-4832-abbc-d70cb4e420dd"
      ],
      "include_colab_link": true
    },
    "gpuClass": "standard",
    "kernelspec": {
      "display_name": "Python 3 (ipykernel)",
      "language": "python",
      "name": "python3"
    },
    "language_info": {
      "codemirror_mode": {
        "name": "ipython",
        "version": 3
      },
      "file_extension": ".py",
      "mimetype": "text/x-python",
      "name": "python",
      "nbconvert_exporter": "python",
      "pygments_lexer": "ipython3",
      "version": "3.9.12"
    }
  },
  "nbformat": 4,
  "nbformat_minor": 5
}