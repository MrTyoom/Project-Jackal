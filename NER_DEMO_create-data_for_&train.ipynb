{
 "cells": [
  {
   "cell_type": "markdown",
   "id": "6ad21876",
   "metadata": {},
   "source": [
    "# NER\n",
    "В этом документе я создаю теги для нужных нам сущностей, обучаю модель распознавания на них и вывожу результат этого распознавания\n"
   ]
  },
  {
   "cell_type": "markdown",
   "id": "3ab3746b",
   "metadata": {},
   "source": [
    "В этой ячейке проверяем, как работает модель spaCy для русского языка. Поскольку сейчас исопльзуется предобученная на датасете новостей модель, она умеет определять только формальные сущности (персона, локация, время), которые неприменимы к нашему проекту. Поэтому далее я буду создавать распознаватель конкретно под наши задачи. \n",
    "\n",
    "А в этой ячейке удостоверяемся, что spaCy корректно отвечает на заданные для нее условия (определила \"Ульяна\" как \"персону\", \"Москве\" как \"локацию\""
   ]
  },
  {
   "cell_type": "code",
   "execution_count": 3,
   "id": "ced7fa1d",
   "metadata": {},
   "outputs": [],
   "source": [
    "import spacy\n",
    "import pandas as pd\n",
    "import random\n",
    "import json\n",
    "from spacy.lang.ru import Russian\n",
    "from spacy.pipeline import EntityRuler\n",
    "\n",
    "import ru_core_news_lg"
   ]
  },
  {
   "cell_type": "markdown",
   "id": "0a16a7b5",
   "metadata": {},
   "source": [
    "Считываем датасет всех команд, далее выбираем отдельно столбец с командами для дальнейшей работы"
   ]
  },
  {
   "cell_type": "code",
   "execution_count": 4,
   "id": "aaca18a1",
   "metadata": {},
   "outputs": [],
   "source": [
    "import pandas as pd\n",
    "all_df = pd.read_csv('all_commands.csv')\n",
    "all_commands = pd.read_csv('all_commands.csv')[['command']]"
   ]
  },
  {
   "cell_type": "code",
   "execution_count": 5,
   "id": "41aa8db2",
   "metadata": {},
   "outputs": [
    {
     "data": {
      "text/html": [
       "<div>\n",
       "<style scoped>\n",
       "    .dataframe tbody tr th:only-of-type {\n",
       "        vertical-align: middle;\n",
       "    }\n",
       "\n",
       "    .dataframe tbody tr th {\n",
       "        vertical-align: top;\n",
       "    }\n",
       "\n",
       "    .dataframe thead th {\n",
       "        text-align: right;\n",
       "    }\n",
       "</style>\n",
       "<table border=\"1\" class=\"dataframe\">\n",
       "  <thead>\n",
       "    <tr style=\"text-align: right;\">\n",
       "      <th></th>\n",
       "      <th>Unnamed: 0.1</th>\n",
       "      <th>Unnamed: 0</th>\n",
       "      <th>command</th>\n",
       "      <th>orig</th>\n",
       "      <th>intent</th>\n",
       "      <th>entity</th>\n",
       "    </tr>\n",
       "  </thead>\n",
       "  <tbody>\n",
       "    <tr>\n",
       "      <th>0</th>\n",
       "      <td>0</td>\n",
       "      <td>0</td>\n",
       "      <td>я пиратом быть хочу</td>\n",
       "      <td>хожу пиратом номер два</td>\n",
       "      <td>choose_your_fighter</td>\n",
       "      <td>fighter</td>\n",
       "    </tr>\n",
       "    <tr>\n",
       "      <th>1</th>\n",
       "      <td>1</td>\n",
       "      <td>1</td>\n",
       "      <td>хочу чтобы пираткой была третья</td>\n",
       "      <td>третьим ходить хочу пиратом</td>\n",
       "      <td>choose_your_fighter</td>\n",
       "      <td>fighter</td>\n",
       "    </tr>\n",
       "    <tr>\n",
       "      <th>2</th>\n",
       "      <td>2</td>\n",
       "      <td>2</td>\n",
       "      <td>пират сделал третий с пиратом ход</td>\n",
       "      <td>сделал пират третий ход</td>\n",
       "      <td>choose_your_fighter</td>\n",
       "      <td>fighter</td>\n",
       "    </tr>\n",
       "  </tbody>\n",
       "</table>\n",
       "</div>"
      ],
      "text/plain": [
       "   Unnamed: 0.1  Unnamed: 0                            command  \\\n",
       "0             0           0                я пиратом быть хочу   \n",
       "1             1           1    хочу чтобы пираткой была третья   \n",
       "2             2           2  пират сделал третий с пиратом ход   \n",
       "\n",
       "                          orig               intent   entity  \n",
       "0       хожу пиратом номер два  choose_your_fighter  fighter  \n",
       "1  третьим ходить хочу пиратом  choose_your_fighter  fighter  \n",
       "2      сделал пират третий ход  choose_your_fighter  fighter  "
      ]
     },
     "execution_count": 5,
     "metadata": {},
     "output_type": "execute_result"
    }
   ],
   "source": [
    "all_df[:3]"
   ]
  },
  {
   "cell_type": "code",
   "execution_count": 6,
   "id": "70e8b503",
   "metadata": {},
   "outputs": [],
   "source": [
    "# Выбор нескольких колонок\n",
    "selected_columns = ['orig', 'intent', 'entity']\n",
    "new_df = all_df[selected_columns].copy()\n",
    "\n",
    "new_df.rename(columns = {'orig':'command'}, inplace = True)\n",
    "# # Сохранение нового датасета в файл\n",
    "# new_df.to_csv('new_dataset.csv', index=False)\n"
   ]
  },
  {
   "cell_type": "code",
   "execution_count": 7,
   "id": "06d8339e",
   "metadata": {},
   "outputs": [],
   "source": [
    "columns_to_del = ['orig', 'Unnamed: 0', 'Unnamed: 0.1']\n",
    "all_drop_df = all_df.drop(columns_to_del, axis=1)\n"
   ]
  },
  {
   "cell_type": "code",
   "execution_count": 8,
   "id": "9184abb4",
   "metadata": {},
   "outputs": [
    {
     "data": {
      "text/html": [
       "<div>\n",
       "<style scoped>\n",
       "    .dataframe tbody tr th:only-of-type {\n",
       "        vertical-align: middle;\n",
       "    }\n",
       "\n",
       "    .dataframe tbody tr th {\n",
       "        vertical-align: top;\n",
       "    }\n",
       "\n",
       "    .dataframe thead th {\n",
       "        text-align: right;\n",
       "    }\n",
       "</style>\n",
       "<table border=\"1\" class=\"dataframe\">\n",
       "  <thead>\n",
       "    <tr style=\"text-align: right;\">\n",
       "      <th></th>\n",
       "      <th>command</th>\n",
       "      <th>intent</th>\n",
       "      <th>entity</th>\n",
       "    </tr>\n",
       "  </thead>\n",
       "  <tbody>\n",
       "    <tr>\n",
       "      <th>0</th>\n",
       "      <td>я пиратом быть хочу</td>\n",
       "      <td>choose_your_fighter</td>\n",
       "      <td>fighter</td>\n",
       "    </tr>\n",
       "    <tr>\n",
       "      <th>1</th>\n",
       "      <td>хочу чтобы пираткой была третья</td>\n",
       "      <td>choose_your_fighter</td>\n",
       "      <td>fighter</td>\n",
       "    </tr>\n",
       "  </tbody>\n",
       "</table>\n",
       "</div>"
      ],
      "text/plain": [
       "                           command               intent   entity\n",
       "0              я пиратом быть хочу  choose_your_fighter  fighter\n",
       "1  хочу чтобы пираткой была третья  choose_your_fighter  fighter"
      ]
     },
     "execution_count": 8,
     "metadata": {},
     "output_type": "execute_result"
    }
   ],
   "source": [
    "all_drop_df[:2]"
   ]
  },
  {
   "cell_type": "code",
   "execution_count": 9,
   "id": "bcc467a3",
   "metadata": {},
   "outputs": [
    {
     "data": {
      "text/html": [
       "<div>\n",
       "<style scoped>\n",
       "    .dataframe tbody tr th:only-of-type {\n",
       "        vertical-align: middle;\n",
       "    }\n",
       "\n",
       "    .dataframe tbody tr th {\n",
       "        vertical-align: top;\n",
       "    }\n",
       "\n",
       "    .dataframe thead th {\n",
       "        text-align: right;\n",
       "    }\n",
       "</style>\n",
       "<table border=\"1\" class=\"dataframe\">\n",
       "  <thead>\n",
       "    <tr style=\"text-align: right;\">\n",
       "      <th></th>\n",
       "      <th>command</th>\n",
       "      <th>intent</th>\n",
       "      <th>entity</th>\n",
       "    </tr>\n",
       "  </thead>\n",
       "  <tbody>\n",
       "    <tr>\n",
       "      <th>0</th>\n",
       "      <td>я пиратом быть хочу</td>\n",
       "      <td>choose_your_fighter</td>\n",
       "      <td>fighter</td>\n",
       "    </tr>\n",
       "    <tr>\n",
       "      <th>1</th>\n",
       "      <td>хочу чтобы пираткой была третья</td>\n",
       "      <td>choose_your_fighter</td>\n",
       "      <td>fighter</td>\n",
       "    </tr>\n",
       "    <tr>\n",
       "      <th>2</th>\n",
       "      <td>пират сделал третий с пиратом ход</td>\n",
       "      <td>choose_your_fighter</td>\n",
       "      <td>fighter</td>\n",
       "    </tr>\n",
       "    <tr>\n",
       "      <th>3</th>\n",
       "      <td>я пиратом первым был</td>\n",
       "      <td>choose_your_fighter</td>\n",
       "      <td>fighter</td>\n",
       "    </tr>\n",
       "    <tr>\n",
       "      <th>4</th>\n",
       "      <td>может я хотела быть третьей пираткой</td>\n",
       "      <td>choose_your_fighter</td>\n",
       "      <td>fighter</td>\n",
       "    </tr>\n",
       "    <tr>\n",
       "      <th>...</th>\n",
       "      <td>...</td>\n",
       "      <td>...</td>\n",
       "      <td>...</td>\n",
       "    </tr>\n",
       "    <tr>\n",
       "      <th>51769</th>\n",
       "      <td>иду по второму</td>\n",
       "      <td>move_on_horse</td>\n",
       "      <td>horse_direction</td>\n",
       "    </tr>\n",
       "    <tr>\n",
       "      <th>51770</th>\n",
       "      <td>хочу как шестой</td>\n",
       "      <td>move_on_horse</td>\n",
       "      <td>horse_direction</td>\n",
       "    </tr>\n",
       "    <tr>\n",
       "      <th>51771</th>\n",
       "      <td>пойду по второму направлению</td>\n",
       "      <td>move_on_horse</td>\n",
       "      <td>horse_direction</td>\n",
       "    </tr>\n",
       "    <tr>\n",
       "      <th>51772</th>\n",
       "      <td>пойду по второму направлению</td>\n",
       "      <td>move_on_horse</td>\n",
       "      <td>horse_direction</td>\n",
       "    </tr>\n",
       "    <tr>\n",
       "      <th>51773</th>\n",
       "      <td>пойду по второму направлению</td>\n",
       "      <td>move_on_horse</td>\n",
       "      <td>horse_direction</td>\n",
       "    </tr>\n",
       "  </tbody>\n",
       "</table>\n",
       "<p>51774 rows × 3 columns</p>\n",
       "</div>"
      ],
      "text/plain": [
       "                                    command               intent  \\\n",
       "0                       я пиратом быть хочу  choose_your_fighter   \n",
       "1           хочу чтобы пираткой была третья  choose_your_fighter   \n",
       "2         пират сделал третий с пиратом ход  choose_your_fighter   \n",
       "3                      я пиратом первым был  choose_your_fighter   \n",
       "4      может я хотела быть третьей пираткой  choose_your_fighter   \n",
       "...                                     ...                  ...   \n",
       "51769                        иду по второму        move_on_horse   \n",
       "51770                       хочу как шестой        move_on_horse   \n",
       "51771          пойду по второму направлению        move_on_horse   \n",
       "51772          пойду по второму направлению        move_on_horse   \n",
       "51773          пойду по второму направлению        move_on_horse   \n",
       "\n",
       "                entity  \n",
       "0              fighter  \n",
       "1              fighter  \n",
       "2              fighter  \n",
       "3              fighter  \n",
       "4              fighter  \n",
       "...                ...  \n",
       "51769  horse_direction  \n",
       "51770  horse_direction  \n",
       "51771  horse_direction  \n",
       "51772  horse_direction  \n",
       "51773  horse_direction  \n",
       "\n",
       "[51774 rows x 3 columns]"
      ]
     },
     "execution_count": 9,
     "metadata": {},
     "output_type": "execute_result"
    }
   ],
   "source": [
    "# Stack (concatenate) the DataFrames vertically\n",
    "all_new_df = pd.concat([all_drop_df, new_df], axis=0)\n",
    "\n",
    "# Reset the index of the stacked DataFrame\n",
    "all_new_df = all_new_df.reset_index(drop=True)\n",
    "\n",
    "# Print the stacked DataFrame\n",
    "all_new_df"
   ]
  },
  {
   "cell_type": "code",
   "execution_count": 10,
   "id": "c0da3be3",
   "metadata": {},
   "outputs": [],
   "source": [
    "# all_new_df['intent'].nunique()"
   ]
  },
  {
   "cell_type": "markdown",
   "id": "bdeea1dd",
   "metadata": {},
   "source": [
    "Переводим колонку команд в список"
   ]
  },
  {
   "cell_type": "code",
   "execution_count": 11,
   "id": "08626be9",
   "metadata": {},
   "outputs": [],
   "source": [
    "all_commands_list = []\n",
    "for i in all_commands['command']:\n",
    "    all_commands_list.append(i)\n",
    "# for i in all_commands_list['orig']:\n",
    "#     all_commands_list.append(i)"
   ]
  },
  {
   "cell_type": "code",
   "execution_count": 12,
   "id": "7dfb3236",
   "metadata": {},
   "outputs": [],
   "source": [
    "all_commands_list2 = []\n",
    "for i in all_new_df['command']:\n",
    "    all_commands_list2.append(i)"
   ]
  },
  {
   "cell_type": "markdown",
   "id": "c45b3e59",
   "metadata": {},
   "source": [
    "Функция для записи списка команд в JSON файл, с ним далее удобнее работать"
   ]
  },
  {
   "cell_type": "code",
   "execution_count": 13,
   "id": "c677de80",
   "metadata": {},
   "outputs": [],
   "source": [
    "def write_list(a_list):\n",
    "    with open(\"all_commands.json\", \"w\", encoding='utf8') as f:\n",
    "        json.dump(a_list, f, ensure_ascii=False)\n",
    "\n",
    "write_list(all_commands_list)"
   ]
  },
  {
   "cell_type": "markdown",
   "id": "e5b1bedc",
   "metadata": {},
   "source": [
    "Заводим 2 функции для чтения файла и сохранения в файл. Загружаем из JSON, сохраняем тоже в JSON"
   ]
  },
  {
   "cell_type": "code",
   "execution_count": 14,
   "id": "67e7ae62",
   "metadata": {},
   "outputs": [],
   "source": [
    "def load_data(file):\n",
    "    with open(file, \"r\", encoding=\"utf-8\") as f:\n",
    "        data = json.load(f)\n",
    "    return (data)\n",
    "\n",
    "def save_data(file, data):\n",
    "    with open (file, \"w\", encoding=\"utf-8\") as f:\n",
    "        json.dump(data, f, indent=4, ensure_ascii=False)"
   ]
  },
  {
   "cell_type": "markdown",
   "id": "c528c8ce",
   "metadata": {},
   "source": [
    "Пишем функции для обработки команд. "
   ]
  },
  {
   "cell_type": "code",
   "execution_count": 15,
   "id": "4da5e625",
   "metadata": {},
   "outputs": [],
   "source": [
    "# В отдельном файле у нас есть список сущностей и их лэйбл. Библиотека spaCy требует особой \n",
    "# структуры данных для обработки пар сущность — лэйбл (это паттерн). Эта функция позволяет создать такую структуру\n",
    "# из имеющихся данных \n",
    "\n",
    "def create_training_data(file, type):\n",
    "    data = load_data(file)\n",
    "    patterns = []\n",
    "    for item in data:\n",
    "        pattern = {\n",
    "                    \"label\": type,\n",
    "                    \"pattern\": item\n",
    "                    }\n",
    "        patterns.append(pattern)\n",
    "    return (patterns)\n",
    "\n",
    "\n",
    "\n",
    "# Эта фунция создает и сохраняет кастомную модель NER, которая работает с созданными выше паттернами.\n",
    "\n",
    "def generate_rules(patterns):\n",
    "    nlp = Russian()\n",
    "    ruler = nlp.add_pipe(\"entity_ruler\")\n",
    "    ruler.add_patterns(patterns)\n",
    "    nlp.to_disk(\"jackal_ner_all_entities\")\n",
    "    \n",
    "\n",
    "    \n",
    "# Эта функция обрабатывает входящий текст (ищет сущности) с использованием созданной выше модели и записывает\n",
    "# найденное в список \n",
    "    \n",
    "def test_model(model, text):\n",
    "    doc = nlp(text)\n",
    "    results = []\n",
    "    entities = []\n",
    "    for ent in doc.ents:\n",
    "        entities.append((ent.start_char, ent.end_char, ent.label_))\n",
    "    if len(entities) > 0:\n",
    "        results = [text, {\"entities\": entities}] # специальный формат для spaCy\n",
    "        return (results)\n",
    "                \n",
    "\n",
    "                                                                            "
   ]
  },
  {
   "cell_type": "markdown",
   "id": "2953f3d5",
   "metadata": {},
   "source": [
    "Создаем паттерны для каждого типа сущностей и объединяем в единый список — это нужно, чтобы конечная модель имела в себе паттерны сущностей всех типов"
   ]
  },
  {
   "cell_type": "code",
   "execution_count": 16,
   "id": "1d32f2f3",
   "metadata": {},
   "outputs": [],
   "source": [
    "patterns_dir = create_training_data(\"NER_dir.json\", \"DIR\")\n",
    "patterns_tile = create_training_data(\"NER_tiles.json\", \"TILE\")\n",
    "pattern_act = create_training_data(\"NER_act.json\", \"ACT\")\n",
    "pattern_num = create_training_data(\"NER_num.json\", \"NUM\")\n",
    "\n",
    "all_patterns = patterns_dir + patterns_tile + pattern_act + pattern_num"
   ]
  },
  {
   "cell_type": "markdown",
   "id": "c3953e30",
   "metadata": {},
   "source": [
    "Создаем модель распознавания сущностей"
   ]
  },
  {
   "cell_type": "code",
   "execution_count": 17,
   "id": "33d0cd71",
   "metadata": {},
   "outputs": [],
   "source": [
    "generate_rules(all_patterns)\n",
    "\n",
    "# Объединила паттерны и сделала единую модель, чтобы иметь множество лейблов, а не один\n",
    "# print (patterns)"
   ]
  },
  {
   "cell_type": "markdown",
   "id": "ebed7328",
   "metadata": {},
   "source": [
    "Функция ниже создает список команд из JSON файла, а далее создает тренировочный размеченный датасет в 70% от всего объема команд"
   ]
  },
  {
   "cell_type": "code",
   "execution_count": 18,
   "id": "123ab334",
   "metadata": {},
   "outputs": [],
   "source": [
    "def get_text(file):\n",
    "    data = load_data(file)\n",
    "    text = []\n",
    "    for item in data:\n",
    "        text.append(item) \n",
    "    return (text)\n"
   ]
  },
  {
   "cell_type": "markdown",
   "id": "51516bca",
   "metadata": {},
   "source": [
    "##### ЭКСПЕРИМЕНТ №1 Создание тренировочного датасета"
   ]
  },
  {
   "cell_type": "code",
   "execution_count": null,
   "id": "feef6e6c",
   "metadata": {},
   "outputs": [],
   "source": [
    "nlp = spacy.load(\"jackal_ner_all_entities\")\n",
    "ALL_DATA = []\n",
    "outsiders = []\n",
    "text = get_text(\"all_commands.json\")\n",
    "hits = []\n",
    "counter = 0\n",
    "test_size = round(0.7 * len(text))\n",
    "while counter < len(text): # делаем тренировочный датасет в 70% от всего\n",
    "    for command in text:\n",
    "        command = command.strip()\n",
    "    #        command = command.replace(\"\\n\", \" \")\n",
    "        results = test_model(nlp, command)\n",
    "        if results != None:\n",
    "            ALL_DATA.append(results)\n",
    "            \n",
    "        ########################\n",
    "        #далее идут временный команды. нужны для отслеживания качества\n",
    "        else:\n",
    "             outsiders.append(command)\n",
    "            \n",
    "        \n",
    "        #######################\n",
    "        counter += 1"
   ]
  },
  {
   "cell_type": "code",
   "execution_count": 11,
   "id": "5ba48a84",
   "metadata": {},
   "outputs": [],
   "source": [
    "TRAIN_DATA = ALL_DATA[:test_size]"
   ]
  },
  {
   "cell_type": "code",
   "execution_count": 12,
   "id": "c38bf81d",
   "metadata": {},
   "outputs": [],
   "source": [
    "test_data = ALL_DATA[test_size:]"
   ]
  },
  {
   "cell_type": "code",
   "execution_count": 13,
   "id": "2a75cecf",
   "metadata": {},
   "outputs": [],
   "source": [
    "save_data(\"ML_NER_train_data.json\", TRAIN_DATA)"
   ]
  },
  {
   "cell_type": "code",
   "execution_count": 14,
   "id": "8261523c",
   "metadata": {},
   "outputs": [],
   "source": [
    "import pandas as pd\n",
    "import numpy as np\n",
    "import matplotlib.pyplot as plt\n",
    "from sklearn import tree\n",
    "from sklearn.model_selection import train_test_split\n",
    "\n",
    "ALL_DATA = pd.DataFrame(ALL_DATA) # стандартный брейк на трейн и тест не производился, поскольку далее нужны json "
   ]
  },
  {
   "cell_type": "code",
   "execution_count": 15,
   "id": "dcaecab9",
   "metadata": {},
   "outputs": [],
   "source": [
    "X = ALL_DATA[[0]]\n",
    "y = ALL_DATA[[1]]"
   ]
  },
  {
   "cell_type": "code",
   "execution_count": 16,
   "id": "a203f6ff",
   "metadata": {},
   "outputs": [],
   "source": [
    "X_train, X_test, y_train, y_test = train_test_split(X, y, random_state=42, train_size = .7)"
   ]
  },
  {
   "cell_type": "markdown",
   "id": "124a1d70",
   "metadata": {},
   "source": [
    "##### ЭКСПЕРИМЕНТ №2 Создание тренировочного датасета #2"
   ]
  },
  {
   "cell_type": "code",
   "execution_count": 42,
   "id": "409e3e62",
   "metadata": {},
   "outputs": [],
   "source": [
    "nlp = spacy.load(\"jackal_ner_all_entities\")\n",
    "ALL_DATA = []\n",
    "outsiders = []\n",
    "text = get_text(\"all_commands.json\")\n",
    "hits = []\n",
    "counter = 0\n",
    "test_size = round(0.7 * len(text))\n",
    "while counter < len(text): # делаем тренировочный датасет в 70% от всего\n",
    "    for command in text:\n",
    "        command = command.strip()\n",
    "    #        command = command.replace(\"\\n\", \" \")\n",
    "        results = test_model(nlp, command)\n",
    "        if results != None:\n",
    "            ALL_DATA.append(results)\n",
    "            \n",
    "        ########################\n",
    "        #далее идут временный команды. нужны для отслеживания качества\n",
    "        else:\n",
    "             outsiders.append(command)\n",
    "            \n",
    "        \n",
    "        #######################\n",
    "        counter += 1"
   ]
  },
  {
   "cell_type": "code",
   "execution_count": 43,
   "id": "73d422c3",
   "metadata": {},
   "outputs": [],
   "source": [
    "TRAIN_DATA2 = ALL_DATA[:test_size] # full data\n",
    "test_data2 = ALL_DATA[test_size:]\n",
    "\n",
    "save_data(\"ML_NER_train_data2.json\", TRAIN_DATA2)"
   ]
  },
  {
   "cell_type": "code",
   "execution_count": 44,
   "id": "4d68bcc9",
   "metadata": {},
   "outputs": [],
   "source": [
    "import pandas as pd\n",
    "import numpy as np\n",
    "import matplotlib.pyplot as plt\n",
    "from sklearn import tree\n",
    "from sklearn.model_selection import train_test_split\n",
    "\n",
    "ALL_DATA = pd.DataFrame(ALL_DATA) # стандартный брейк на трейн и тест не производился, поскольку далее нужны json \n",
    "X = ALL_DATA[[0]]\n",
    "y = ALL_DATA[[1]]\n",
    "\n",
    "X_train, X_test, y_train, y_test = train_test_split(X, y, random_state=42, train_size = .7)"
   ]
  },
  {
   "cell_type": "code",
   "execution_count": null,
   "id": "cbe010d6",
   "metadata": {},
   "outputs": [],
   "source": []
  },
  {
   "cell_type": "code",
   "execution_count": null,
   "id": "71f14785",
   "metadata": {},
   "outputs": [],
   "source": []
  },
  {
   "cell_type": "code",
   "execution_count": null,
   "id": "d5595f88",
   "metadata": {},
   "outputs": [],
   "source": []
  },
  {
   "cell_type": "code",
   "execution_count": null,
   "id": "d5e00c83",
   "metadata": {},
   "outputs": [],
   "source": []
  },
  {
   "cell_type": "code",
   "execution_count": null,
   "id": "31172a01",
   "metadata": {},
   "outputs": [],
   "source": []
  },
  {
   "cell_type": "markdown",
   "id": "cf69a959",
   "metadata": {},
   "source": [
    "## Тренировка модели"
   ]
  },
  {
   "cell_type": "code",
   "execution_count": 19,
   "id": "8a556c13",
   "metadata": {},
   "outputs": [],
   "source": [
    "import random\n",
    "from spacy.training.example import Example\n",
    "\n",
    "def train_spacy(data, epochs):\n",
    "    TRAIN_DATA = data\n",
    "    nlp = spacy.blank(\"ru\")\n",
    "    if \"ner\" not in nlp.pipe_names:\n",
    "        ner = nlp.add_pipe(\"ner\")\n",
    "    else:\n",
    "        ner = nlp.get_pipe(\"ner\")\n",
    "    \n",
    "    for _, annotations in TRAIN_DATA:\n",
    "        for ent in annotations.get(\"entities\"):\n",
    "            ner.add_label(ent[2])\n",
    "            \n",
    "    other_pipes = [pipe for pipe in nlp.pipe_names if pipe != \"ner\"]\n",
    "    with nlp.select_pipes(disable=other_pipes):\n",
    "        optimizer = nlp.initialize()\n",
    "        for epoch in range(epochs):\n",
    "            random.shuffle(TRAIN_DATA)\n",
    "            losses = {}\n",
    "            for text, annotations in TRAIN_DATA:\n",
    "                example = Example.from_dict(nlp.make_doc(text), annotations)\n",
    "                nlp.update(\n",
    "                    [example],\n",
    "                    sgd=optimizer,\n",
    "                    losses=losses\n",
    "                )\n",
    "            print(f\"Epoch {epoch}, losses {losses}\")\n",
    "    return nlp"
   ]
  },
  {
   "cell_type": "code",
   "execution_count": 20,
   "id": "a527107e",
   "metadata": {},
   "outputs": [
    {
     "name": "stderr",
     "output_type": "stream",
     "text": [
      "[nltk_data] Downloading package stopwords to\n",
      "[nltk_data]     /Users/pabakst/nltk_data...\n",
      "[nltk_data]   Package stopwords is already up-to-date!\n"
     ]
    }
   ],
   "source": [
    "import re\n",
    "import spacy\n",
    "import nltk\n",
    "nltk.download(\"stopwords\")\n",
    "#--------#\n",
    "\n",
    "from nltk.corpus import stopwords\n",
    "from pymystem3 import Mystem\n",
    "from string import punctuation\n",
    "\n",
    "#Create lemmatizer and stopwords list\n",
    "mystem = Mystem() \n",
    "russian_stopwords = stopwords.words(\"russian\")\n",
    "\n"
   ]
  },
  {
   "cell_type": "code",
   "execution_count": 21,
   "id": "fb35217f",
   "metadata": {},
   "outputs": [],
   "source": [
    "#Preprocess function\n",
    "def preprocess_text(text):\n",
    "    tokens = mystem.lemmatize(text.lower())\n",
    "    tokens = [token for token in tokens if token not in russian_stopwords\\\n",
    "              and token != \" \" \\\n",
    "              and token.strip() not in punctuation]\n",
    "    \n",
    "    text = \" \".join(tokens)\n",
    "    \n",
    "    return text"
   ]
  },
  {
   "cell_type": "markdown",
   "id": "0a63de4d",
   "metadata": {},
   "source": [
    "##### Эксперимент №1"
   ]
  },
  {
   "cell_type": "code",
   "execution_count": 18,
   "id": "9bb8eed6",
   "metadata": {},
   "outputs": [],
   "source": [
    "TRAIN_DATA = load_data(\"ML_NER_train_data.json\")\n",
    "random.shuffle(TRAIN_DATA)\n"
   ]
  },
  {
   "cell_type": "code",
   "execution_count": 19,
   "id": "4baa1eb5",
   "metadata": {},
   "outputs": [
    {
     "name": "stdout",
     "output_type": "stream",
     "text": [
      "Epoch 0, losses {'ner': 1209.362697350957}\n",
      "Epoch 1, losses {'ner': 418.0132782415199}\n",
      "Epoch 2, losses {'ner': 298.9733012921843}\n",
      "Epoch 3, losses {'ner': 196.6050681297542}\n",
      "Epoch 4, losses {'ner': 164.72349224351584}\n",
      "Epoch 5, losses {'ner': 127.8535100090867}\n",
      "Epoch 6, losses {'ner': 113.04108465714282}\n",
      "Epoch 7, losses {'ner': 110.2170672081113}\n",
      "Epoch 8, losses {'ner': 92.4750738352342}\n",
      "Epoch 9, losses {'ner': 116.0856071785099}\n",
      "Epoch 10, losses {'ner': 99.27456492477025}\n",
      "Epoch 11, losses {'ner': 119.54105702693973}\n",
      "Epoch 12, losses {'ner': 96.77559156767457}\n",
      "Epoch 13, losses {'ner': 79.74920168418925}\n",
      "Epoch 14, losses {'ner': 88.43770120556705}\n",
      "Epoch 15, losses {'ner': 101.93594694040155}\n",
      "Epoch 16, losses {'ner': 110.55724684573198}\n",
      "Epoch 17, losses {'ner': 78.3234213482761}\n",
      "Epoch 18, losses {'ner': 113.32516434290599}\n",
      "Epoch 19, losses {'ner': 92.24953517867372}\n",
      "Epoch 20, losses {'ner': 69.99834994970784}\n",
      "Epoch 21, losses {'ner': 88.17668782694231}\n",
      "Epoch 22, losses {'ner': 82.43285261220402}\n",
      "Epoch 23, losses {'ner': 83.14951270148615}\n",
      "Epoch 24, losses {'ner': 82.83733479727157}\n",
      "Epoch 25, losses {'ner': 109.08129695751357}\n",
      "Epoch 26, losses {'ner': 84.75345330167575}\n",
      "Epoch 27, losses {'ner': 104.06707348263116}\n",
      "Epoch 28, losses {'ner': 89.46865463868335}\n",
      "Epoch 29, losses {'ner': 58.148560665871706}\n"
     ]
    }
   ],
   "source": [
    "nlp = train_spacy(TRAIN_DATA, 30)\n",
    "nlp.to_disk(\"jackal_ner_trained_model\")"
   ]
  },
  {
   "cell_type": "code",
   "execution_count": 39,
   "id": "9b67963b",
   "metadata": {},
   "outputs": [],
   "source": [
    "def input_for_gui (test):\n",
    "    arrow = ['стрелка', 'указатель']\n",
    "    balloon = ['воздушный шар', 'шар']\n",
    "    barrel = ['бочка']\n",
    "    cannibal = ['людоед']\n",
    "    castle = ['крепость']\n",
    "    castle_girl = [\"девушка\", \"абориген\", \"аборигенка\"]\n",
    "    croc = ['крокодил']\n",
    "    gold = ['сундук', 'деньги', 'сокровища',\"золотишко\", \"монета\", \"золото\", \"деньга\", \"монетка\", \n",
    "            \"клад\", \"сундучок\", \"мелочь\", \"сокровище\", \"сокровищница\"]\n",
    "    horse = ['конь', 'лошадь']\n",
    "    ice = ['лед', 'лёд']\n",
    "    labyrinth = [ 'лабиринт', 'джунгли', 'пустыня', 'болото',\n",
    "        'горы', \"тропик\", \"пустынь\", \"заросль\", \"гора\", \"скала\" , \"лес\", \n",
    "         \"песок\", \"дюна\",\"тропический\", \"леса\"]\n",
    "    plane = ['самолет', \"самолёт\"]\n",
    "    trap = ['капкан', 'ловушка']\n",
    "    cannon = ['пушка']\n",
    "    field = ['поляна', 'пустышка', \"клетка\",\n",
    "         \"клеточка\",\"холм\"]\n",
    "    \n",
    "    \n",
    "#     test = 'первым пиратом пойду налево и попаду на шар'\n",
    "    test = preprocess_text(test)\n",
    "    nlp = spacy.load(\"jackal_ner_trained_model\") # сущности определяются посредством обучения модели\n",
    "    doc = nlp(test)\n",
    "    results = test_model(nlp, command)\n",
    "    dict_ = {}\n",
    "    for ent in doc.ents:\n",
    "        dict_[ent.label_] = ent.text\n",
    "#         print (ent.text, ent.label_)\n",
    "    print(dict_)\n",
    "    \n",
    "    if \"NUM\" in dict_.keys():\n",
    "        if \"пер\" in dict_[\"NUM\"]:\n",
    "            number = 1\n",
    "        elif \"втор\" in dict_[\"NUM\"]:\n",
    "            number = 2     \n",
    "        elif \"тр\" in dict_[\"NUM\"]:\n",
    "            number = 3\n",
    "    else:\n",
    "        number = 101\n",
    "        \n",
    "    if \"DIR\" in dict_.keys():\n",
    "        if \"лев\" in dict_[\"DIR\"]:\n",
    "            direction = 0\n",
    "        elif \"прав\" in dict_[\"DIR\"]:\n",
    "            direction = 1   \n",
    "        elif \"прям\" in dict_[\"DIR\"]:\n",
    "            direction = 2  \n",
    "        elif \"наз\" in dict_[\"DIR\"]:\n",
    "            direction = 3\n",
    "    \n",
    "        return number, direction \n",
    "#         break\n",
    "\n",
    "            \n",
    "    elif \"DIR\" not in dict_.keys()and \"TILE\" in dict_.keys() :\n",
    "        if dict_[\"TILE\"] in arrow:\n",
    "            tile = 1\n",
    "        elif dict_[\"TILE\"] in balloon:\n",
    "            tile = 8   \n",
    "        elif dict_[\"TILE\"] in barrel:\n",
    "            tile = 9     \n",
    "        elif dict_[\"TILE\"] in cannibal:\n",
    "            tile = 10   \n",
    "        elif dict_[\"TILE\"] in castle:\n",
    "            tile = 11             \n",
    "        elif dict_[\"TILE\"] in castle_girl:\n",
    "            tile = 12  \n",
    "        elif dict_[\"TILE\"] in croc:\n",
    "            tile = 13 \n",
    "        elif dict_[\"TILE\"] in gold:\n",
    "            tile = 14\n",
    "        elif dict_[\"TILE\"] in horse:\n",
    "            tile = 19            \n",
    "        elif dict_[\"TILE\"] in ice:\n",
    "            tile = 20            \n",
    "        elif dict_[\"TILE\"] in labyrinth:\n",
    "            tile = 21   \n",
    "        elif dict_[\"TILE\"] in field:\n",
    "            tile = 25               \n",
    "        elif dict_[\"TILE\"] in plane:\n",
    "            tile = 29               \n",
    "        elif dict_[\"TILE\"] in trap:\n",
    "            tile = 30   \n",
    "        elif dict_[\"TILE\"] in cannon:\n",
    "            tile = 31             \n",
    "    \n",
    "        return number, tile  \n",
    "#         break\n",
    "            \n",
    "# print(results[1])"
   ]
  },
  {
   "cell_type": "markdown",
   "id": "2b45dbb1",
   "metadata": {},
   "source": [
    "##### Эксперимент №2"
   ]
  },
  {
   "cell_type": "code",
   "execution_count": 46,
   "id": "daf6218e",
   "metadata": {},
   "outputs": [],
   "source": [
    "TRAIN_DATA2 = load_data(\"ML_NER_train_data2.json\")\n",
    "random.shuffle(TRAIN_DATA2)"
   ]
  },
  {
   "cell_type": "code",
   "execution_count": 47,
   "id": "33709824",
   "metadata": {},
   "outputs": [
    {
     "name": "stdout",
     "output_type": "stream",
     "text": [
      "Epoch 0, losses {'ner': 1192.3796189962734}\n",
      "Epoch 1, losses {'ner': 438.75923287614535}\n",
      "Epoch 2, losses {'ner': 227.20199471466904}\n",
      "Epoch 3, losses {'ner': 173.81227575955631}\n",
      "Epoch 4, losses {'ner': 179.93529382738785}\n",
      "Epoch 5, losses {'ner': 161.01152465172535}\n",
      "Epoch 6, losses {'ner': 168.58750400037758}\n",
      "Epoch 7, losses {'ner': 85.14953879835709}\n",
      "Epoch 8, losses {'ner': 90.39763094912121}\n",
      "Epoch 9, losses {'ner': 135.5226072889653}\n",
      "Epoch 10, losses {'ner': 112.43301182417362}\n",
      "Epoch 11, losses {'ner': 91.356357433581}\n",
      "Epoch 12, losses {'ner': 91.9319134465317}\n",
      "Epoch 13, losses {'ner': 58.257581652239196}\n",
      "Epoch 14, losses {'ner': 86.48136508820376}\n",
      "Epoch 15, losses {'ner': 92.7242524631138}\n",
      "Epoch 16, losses {'ner': 81.2744690465102}\n",
      "Epoch 17, losses {'ner': 89.93876815396483}\n",
      "Epoch 18, losses {'ner': 79.45619466024219}\n",
      "Epoch 19, losses {'ner': 81.77474603188068}\n",
      "Epoch 20, losses {'ner': 102.97479292045449}\n",
      "Epoch 21, losses {'ner': 88.41012265701478}\n",
      "Epoch 22, losses {'ner': 100.77128501641725}\n",
      "Epoch 23, losses {'ner': 102.97947964182461}\n",
      "Epoch 24, losses {'ner': 83.05636680346389}\n",
      "Epoch 25, losses {'ner': 89.13305707083708}\n",
      "Epoch 26, losses {'ner': 100.71888821580583}\n",
      "Epoch 27, losses {'ner': 70.19375025032127}\n",
      "Epoch 28, losses {'ner': 79.21445112254938}\n",
      "Epoch 29, losses {'ner': 88.410010283988}\n"
     ]
    }
   ],
   "source": [
    "nlp = train_spacy(TRAIN_DATA2, 30)\n",
    "nlp.to_disk(\"jackal_ner_trained_model_2\")"
   ]
  },
  {
   "cell_type": "code",
   "execution_count": 58,
   "id": "39da6795",
   "metadata": {},
   "outputs": [],
   "source": [
    "def input_for_gui2 (test):\n",
    "    arrow = ['стрелка', 'указатель']\n",
    "    balloon = ['воздушный шар', 'шар']\n",
    "    barrel = ['бочка']\n",
    "    cannibal = ['людоед']\n",
    "    castle = ['крепость']\n",
    "    castle_girl = [\"девушка\", \"абориген\", \"аборигенка\"]\n",
    "    croc = ['крокодил']\n",
    "    gold = ['сундук', 'деньги', 'сокровища',\"золотишко\", \"монета\", \"золото\", \"деньга\", \"монетка\", \n",
    "            \"клад\", \"сундучок\", \"мелочь\", \"сокровище\", \"сокровищница\"]\n",
    "    horse = ['конь', 'лошадь']\n",
    "    ice = ['лед', 'лёд']\n",
    "    labyrinth = [ 'лабиринт', 'джунгли', 'пустыня', 'болото',\n",
    "        'горы', \"тропик\", \"пустынь\", \"заросль\", \"гора\", \"скала\" , \"лес\", \n",
    "         \"песок\", \"дюна\",\"тропический\", \"леса\"]\n",
    "    plane = ['самолет', \"самолёт\"]\n",
    "    trap = ['капкан', 'ловушка']\n",
    "    cannon = ['пушка']\n",
    "    field = ['поляна', 'пустышка', \"клетка\",\n",
    "         \"клеточка\",\"холм\"]\n",
    "    \n",
    "    \n",
    "#     test = 'первым пиратом пойду налево и попаду на шар'\n",
    "    test = preprocess_text(test)\n",
    "    nlp = spacy.load(\"jackal_ner_trained_model_2\") # сущности определяются посредством обучения модели\n",
    "    doc = nlp(test)\n",
    "    results = test_model(nlp, command)\n",
    "    dict_ = {}\n",
    "    for ent in doc.ents:\n",
    "        dict_[ent.label_] = ent.text\n",
    "#         print (ent.text, ent.label_)\n",
    "    print(dict_)\n",
    "    \n",
    "    if \"NUM\" in dict_.keys():\n",
    "        if \"пер\" in dict_[\"NUM\"]:\n",
    "            number = 1\n",
    "        elif \"втор\" in dict_[\"NUM\"]:\n",
    "            number = 2     \n",
    "        elif \"тр\" in dict_[\"NUM\"]:\n",
    "            number = 3\n",
    "    else:\n",
    "        number = 101\n",
    "        \n",
    "    if \"DIR\" in dict_.keys():\n",
    "        if \"лев\" in dict_[\"DIR\"]:\n",
    "            direction = 0\n",
    "        elif \"прав\" in dict_[\"DIR\"]:\n",
    "            direction = 1   \n",
    "        elif \"прям\" in dict_[\"DIR\"]:\n",
    "            direction = 2  \n",
    "        elif \"наз\" in dict_[\"DIR\"]:\n",
    "            direction = 3\n",
    "    \n",
    "        return number, direction \n",
    "#         break\n",
    "\n",
    "            \n",
    "    elif \"DIR\" not in dict_.keys()and \"TILE\" in dict_.keys() :\n",
    "        if dict_[\"TILE\"] in arrow:\n",
    "            tile = 1\n",
    "        elif dict_[\"TILE\"] in balloon:\n",
    "            tile = 8   \n",
    "        elif dict_[\"TILE\"] in barrel:\n",
    "            tile = 9     \n",
    "        elif dict_[\"TILE\"] in cannibal:\n",
    "            tile = 10   \n",
    "        elif dict_[\"TILE\"] in castle:\n",
    "            tile = 11             \n",
    "        elif dict_[\"TILE\"] in castle_girl:\n",
    "            tile = 12  \n",
    "        elif dict_[\"TILE\"] in croc:\n",
    "            tile = 13 \n",
    "        elif dict_[\"TILE\"] in gold:\n",
    "            tile = 14\n",
    "        elif dict_[\"TILE\"] in horse:\n",
    "            tile = 19            \n",
    "        elif dict_[\"TILE\"] in ice:\n",
    "            tile = 20            \n",
    "        elif dict_[\"TILE\"] in labyrinth:\n",
    "            tile = 21   \n",
    "        elif dict_[\"TILE\"] in field:\n",
    "            tile = 25               \n",
    "        elif dict_[\"TILE\"] in plane:\n",
    "            tile = 29               \n",
    "        elif dict_[\"TILE\"] in trap:\n",
    "            tile = 30   \n",
    "        elif dict_[\"TILE\"] in cannon:\n",
    "            tile = 31             \n",
    "    \n",
    "        return number, tile  \n",
    "#         break\n",
    "            \n",
    "# print(results[1])"
   ]
  },
  {
   "cell_type": "code",
   "execution_count": 59,
   "id": "28e976a9",
   "metadata": {},
   "outputs": [
    {
     "name": "stdout",
     "output_type": "stream",
     "text": [
      "{'NUM': 'первый', 'ACT': 'пират', 'TILE': 'шар'}\n"
     ]
    },
    {
     "data": {
      "text/plain": [
       "(1, 8)"
      ]
     },
     "execution_count": 59,
     "metadata": {},
     "output_type": "execute_result"
    }
   ],
   "source": [
    "input_for_gui2(\"первым пиратом пойду попаду на шар\")"
   ]
  },
  {
   "cell_type": "markdown",
   "id": "c8d7c73a",
   "metadata": {},
   "source": [
    "# Создание строк из словаря и классификация модели"
   ]
  },
  {
   "cell_type": "markdown",
   "id": "5821c77d",
   "metadata": {},
   "source": [
    "### Cоздаем эмбеддинги на rubert-tiny, тк у него был лучший перформанс в исследованиях до"
   ]
  },
  {
   "cell_type": "code",
   "execution_count": 26,
   "id": "413d415a",
   "metadata": {},
   "outputs": [
    {
     "name": "stdout",
     "output_type": "stream",
     "text": [
      "Requirement already satisfied: transformers in /Users/pabakst/Conda/anaconda3/lib/python3.9/site-packages (4.18.0)\n",
      "Requirement already satisfied: filelock in /Users/pabakst/Conda/anaconda3/lib/python3.9/site-packages (from transformers) (3.6.0)\n",
      "Requirement already satisfied: huggingface-hub<1.0,>=0.1.0 in /Users/pabakst/Conda/anaconda3/lib/python3.9/site-packages (from transformers) (0.13.4)\n",
      "Requirement already satisfied: numpy>=1.17 in /Users/pabakst/Conda/anaconda3/lib/python3.9/site-packages (from transformers) (1.21.5)\n",
      "Requirement already satisfied: packaging>=20.0 in /Users/pabakst/Conda/anaconda3/lib/python3.9/site-packages (from transformers) (21.3)\n",
      "Requirement already satisfied: pyyaml>=5.1 in /Users/pabakst/Conda/anaconda3/lib/python3.9/site-packages (from transformers) (6.0)\n",
      "Requirement already satisfied: regex!=2019.12.17 in /Users/pabakst/Conda/anaconda3/lib/python3.9/site-packages (from transformers) (2022.3.15)\n",
      "Requirement already satisfied: requests in /Users/pabakst/Conda/anaconda3/lib/python3.9/site-packages (from transformers) (2.27.1)\n",
      "Requirement already satisfied: sacremoses in /Users/pabakst/Conda/anaconda3/lib/python3.9/site-packages (from transformers) (0.0.43)\n",
      "Requirement already satisfied: tokenizers!=0.11.3,<0.13,>=0.11.1 in /Users/pabakst/Conda/anaconda3/lib/python3.9/site-packages (from transformers) (0.11.4)\n",
      "Requirement already satisfied: tqdm>=4.27 in /Users/pabakst/Conda/anaconda3/lib/python3.9/site-packages (from transformers) (4.64.0)\n",
      "Requirement already satisfied: typing-extensions>=3.7.4.3 in /Users/pabakst/Conda/anaconda3/lib/python3.9/site-packages (from huggingface-hub<1.0,>=0.1.0->transformers) (4.5.0)\n",
      "Requirement already satisfied: pyparsing!=3.0.5,>=2.0.2 in /Users/pabakst/Conda/anaconda3/lib/python3.9/site-packages (from packaging>=20.0->transformers) (3.0.4)\n",
      "Requirement already satisfied: urllib3<1.27,>=1.21.1 in /Users/pabakst/Conda/anaconda3/lib/python3.9/site-packages (from requests->transformers) (1.26.16)\n",
      "Requirement already satisfied: certifi>=2017.4.17 in /Users/pabakst/Conda/anaconda3/lib/python3.9/site-packages (from requests->transformers) (2021.10.8)\n",
      "Requirement already satisfied: charset-normalizer~=2.0.0 in /Users/pabakst/Conda/anaconda3/lib/python3.9/site-packages (from requests->transformers) (2.0.4)\n",
      "Requirement already satisfied: idna<4,>=2.5 in /Users/pabakst/Conda/anaconda3/lib/python3.9/site-packages (from requests->transformers) (3.3)\n",
      "Requirement already satisfied: six in /Users/pabakst/Conda/anaconda3/lib/python3.9/site-packages (from sacremoses->transformers) (1.16.0)\n",
      "Requirement already satisfied: click in /Users/pabakst/Conda/anaconda3/lib/python3.9/site-packages (from sacremoses->transformers) (8.0.4)\n",
      "Requirement already satisfied: joblib in /Users/pabakst/Conda/anaconda3/lib/python3.9/site-packages (from sacremoses->transformers) (1.1.0)\n"
     ]
    }
   ],
   "source": [
    "# загрузка библиотеки hugging face\n",
    "!pip install transformers"
   ]
  },
  {
   "cell_type": "code",
   "execution_count": 27,
   "id": "e2145ce8",
   "metadata": {},
   "outputs": [],
   "source": [
    "from transformers import AutoTokenizer, AutoModelForPreTraining\n",
    "\n",
    "tokenizer = AutoTokenizer.from_pretrained(\"cointegrated/rubert-tiny\")\n",
    "\n",
    "model = AutoModelForPreTraining.from_pretrained(\"cointegrated/rubert-tiny\")"
   ]
  },
  {
   "cell_type": "markdown",
   "id": "bc5aa174",
   "metadata": {},
   "source": [
    "###### Эксперимент №1"
   ]
  },
  {
   "cell_type": "code",
   "execution_count": 60,
   "id": "b297a88c",
   "metadata": {},
   "outputs": [],
   "source": [
    "# test = 'первым пиратом пойду налево и попаду на шар'\n",
    "\n",
    "\n",
    "# test = preprocess_text(test)\n",
    "# nlp = spacy.load(\"jackal_ner_all_entities\") # все сущности посчитаны искусственно, механически\n",
    "# doc = nlp(test)\n",
    "# results = test_model(nlp, command)\n",
    "# for ent in doc.ents:\n",
    "#     print (ent.text, ent.label_)\n",
    "# # print(results[1])\n",
    "\n",
    "nlp = spacy.load(\"jackal_ner_trained_model\") # сущности определяются посредством обучения модели\n",
    "list_of_cores = []\n",
    "for i in all_commands_list:\n",
    "    test = preprocess_text(i)\n",
    "    doc = nlp(test)\n",
    "    dict_ = {}\n",
    "    for ent in doc.ents:\n",
    "        dict_[ent.label_] = ent.text\n",
    "    #       print (ent.text, ent.label_)\n",
    "\n",
    "    new_string = (' ').join(dict_.values())\n",
    "    if new_string.isspace():\n",
    "        new_string= \"NaN\"\n",
    "    list_of_cores.append(new_string)\n",
    "    \n",
    "all_commands['core_ent'] = list_of_cores"
   ]
  },
  {
   "cell_type": "code",
   "execution_count": 61,
   "id": "6924e1fa",
   "metadata": {},
   "outputs": [
    {
     "data": {
      "text/html": [
       "<div>\n",
       "<style scoped>\n",
       "    .dataframe tbody tr th:only-of-type {\n",
       "        vertical-align: middle;\n",
       "    }\n",
       "\n",
       "    .dataframe tbody tr th {\n",
       "        vertical-align: top;\n",
       "    }\n",
       "\n",
       "    .dataframe thead th {\n",
       "        text-align: right;\n",
       "    }\n",
       "</style>\n",
       "<table border=\"1\" class=\"dataframe\">\n",
       "  <thead>\n",
       "    <tr style=\"text-align: right;\">\n",
       "      <th></th>\n",
       "      <th>command</th>\n",
       "      <th>core_ent</th>\n",
       "    </tr>\n",
       "  </thead>\n",
       "  <tbody>\n",
       "    <tr>\n",
       "      <th>0</th>\n",
       "      <td>я пиратом быть хочу</td>\n",
       "      <td>пират</td>\n",
       "    </tr>\n",
       "    <tr>\n",
       "      <th>1</th>\n",
       "      <td>хочу чтобы пираткой была третья</td>\n",
       "      <td>пиратка третий</td>\n",
       "    </tr>\n",
       "    <tr>\n",
       "      <th>2</th>\n",
       "      <td>пират сделал третий с пиратом ход</td>\n",
       "      <td>пират третий</td>\n",
       "    </tr>\n",
       "    <tr>\n",
       "      <th>3</th>\n",
       "      <td>я пиратом первым был</td>\n",
       "      <td>пират первый</td>\n",
       "    </tr>\n",
       "    <tr>\n",
       "      <th>4</th>\n",
       "      <td>может я хотела быть третьей пираткой</td>\n",
       "      <td>третий пиратка</td>\n",
       "    </tr>\n",
       "    <tr>\n",
       "      <th>...</th>\n",
       "      <td>...</td>\n",
       "      <td>...</td>\n",
       "    </tr>\n",
       "    <tr>\n",
       "      <th>25882</th>\n",
       "      <td>место иду на второе я</td>\n",
       "      <td>второй</td>\n",
       "    </tr>\n",
       "    <tr>\n",
       "      <th>25883</th>\n",
       "      <td>я хочу был он чтобы шестым</td>\n",
       "      <td>шестой</td>\n",
       "    </tr>\n",
       "    <tr>\n",
       "      <th>25884</th>\n",
       "      <td>я сторону в другую</td>\n",
       "      <td></td>\n",
       "    </tr>\n",
       "    <tr>\n",
       "      <th>25885</th>\n",
       "      <td>я в другую сторону</td>\n",
       "      <td></td>\n",
       "    </tr>\n",
       "    <tr>\n",
       "      <th>25886</th>\n",
       "      <td>сторону в другую я</td>\n",
       "      <td></td>\n",
       "    </tr>\n",
       "  </tbody>\n",
       "</table>\n",
       "<p>25887 rows × 2 columns</p>\n",
       "</div>"
      ],
      "text/plain": [
       "                                    command        core_ent\n",
       "0                       я пиратом быть хочу           пират\n",
       "1           хочу чтобы пираткой была третья  пиратка третий\n",
       "2         пират сделал третий с пиратом ход    пират третий\n",
       "3                      я пиратом первым был    пират первый\n",
       "4      может я хотела быть третьей пираткой  третий пиратка\n",
       "...                                     ...             ...\n",
       "25882                 место иду на второе я          второй\n",
       "25883            я хочу был он чтобы шестым          шестой\n",
       "25884                    я сторону в другую                \n",
       "25885                    я в другую сторону                \n",
       "25886                    сторону в другую я                \n",
       "\n",
       "[25887 rows x 2 columns]"
      ]
     },
     "execution_count": 61,
     "metadata": {},
     "output_type": "execute_result"
    }
   ],
   "source": [
    "all_commands[]"
   ]
  },
  {
   "cell_type": "code",
   "execution_count": 69,
   "id": "54763334",
   "metadata": {},
   "outputs": [],
   "source": [
    "sentences = all_commands.core_ent\n",
    "\n",
    "# Преобразование каждого предложения в эмбеддинг\n",
    "embeddings_rubert_tiny_ner = []\n",
    "for sentence in sentences:\n",
    "   inputs = tokenizer(sentence, return_tensors=\"pt\")\n",
    "   outputs = model(**inputs)\n",
    "   last_hidden_state = outputs[0]  # замена строки\n",
    "   sentence_embedding = last_hidden_state.mean(dim=1).squeeze().tolist()\n",
    "   embeddings_rubert_tiny_ner.append(sentence_embedding)\n",
    "\n",
    "# получили список списков"
   ]
  },
  {
   "cell_type": "code",
   "execution_count": 70,
   "id": "0f730d08",
   "metadata": {},
   "outputs": [],
   "source": [
    "embeddings_rubert_tiny_ner = np.array(embeddings_rubert_tiny_ner)"
   ]
  },
  {
   "cell_type": "code",
   "execution_count": 71,
   "id": "1a4c4a51",
   "metadata": {},
   "outputs": [],
   "source": [
    "np.save('embeddings_rubert_tiny_ner.npy', embeddings_rubert_tiny_ner)"
   ]
  },
  {
   "cell_type": "code",
   "execution_count": 72,
   "id": "a849a420",
   "metadata": {},
   "outputs": [
    {
     "data": {
      "text/plain": [
       "14"
      ]
     },
     "execution_count": 72,
     "metadata": {},
     "output_type": "execute_result"
    }
   ],
   "source": [
    "all_df['intent'].nunique()"
   ]
  },
  {
   "cell_type": "code",
   "execution_count": 73,
   "id": "c326b9ae",
   "metadata": {},
   "outputs": [],
   "source": [
    "from sklearn import preprocessing\n",
    "le = preprocessing.LabelEncoder()\n",
    "all_df['intent'] = le.fit_transform(all_df.intent)\n",
    "np.save('labels_ent.npy', all_df.intent)"
   ]
  },
  {
   "cell_type": "code",
   "execution_count": null,
   "id": "045d7444",
   "metadata": {},
   "outputs": [],
   "source": []
  },
  {
   "cell_type": "code",
   "execution_count": 1,
   "id": "bbe0e9d3",
   "metadata": {},
   "outputs": [],
   "source": [
    "import numpy as np\n",
    "from sklearn.model_selection import train_test_split\n",
    "\n",
    "X = np.load('embeddings_rubert_tiny_ner.npy') # матрица признаков\n",
    "y = np.load('labels_ent.npy') # вектор целевых переменных\n",
    "\n",
    "# Сначала разбиваем на train и test, с перемешиванием\n",
    "X_train, X_test, y_train, y_test = train_test_split(X, y, test_size=0.2, shuffle=True, random_state=42)\n",
    "\n",
    "# Далее разбиваем train на train и validation, с перемешиванием\n",
    "X_train, X_val, y_train, y_val = train_test_split(X_train, y_train, test_size=0.2, shuffle=True, random_state=42)"
   ]
  },
  {
   "cell_type": "code",
   "execution_count": null,
   "id": "e5347a0b",
   "metadata": {},
   "outputs": [],
   "source": []
  },
  {
   "cell_type": "code",
   "execution_count": 2,
   "id": "9d059df5",
   "metadata": {},
   "outputs": [
    {
     "data": {
      "image/png": "[encoded data removed]",
      "text/plain": [
       "<Figure size 576x432 with 1 Axes>"
      ]
     },
     "metadata": {
      "needs_background": "light"
     },
     "output_type": "display_data"
    },
    {
     "name": "stdout",
     "output_type": "stream",
     "text": [
      "Accuracy: 0.500\n"
     ]
    }
   ],
   "source": [
    "import numpy as np\n",
    "import matplotlib.pyplot as plt\n",
    "from sklearn.neighbors import KNeighborsClassifier\n",
    "from sklearn.model_selection import GridSearchCV\n",
    "from sklearn.model_selection import train_test_split\n",
    "from sklearn.decomposition import PCA\n",
    "from sklearn.metrics import accuracy_score\n",
    "\n",
    "\n",
    "# Поиск оптимального значения параметра k с помощью кросс-валидации\n",
    "knn = KNeighborsClassifier()\n",
    "param_grid = {'n_neighbors': [3, 5, 7, 9, 11]}\n",
    "grid_search = GridSearchCV(knn, param_grid, cv=5)\n",
    "grid_search.fit(X_train, y_train)\n",
    "best_k = grid_search.best_params_['n_neighbors']\n",
    "\n",
    "# Обучение модели k-NN с оптимальным значением параметра k\n",
    "knn = KNeighborsClassifier(n_neighbors=best_k)\n",
    "knn.fit(X_train, y_train)\n",
    "\n",
    "# Предсказание меток классов на тестовой выборке\n",
    "y_pred = knn.predict(X_test)\n",
    "\n",
    "# Сокращение размерности признаков с помощью метода главных компонент\n",
    "pca = PCA(n_components=2)\n",
    "X_pca = pca.fit_transform(X)\n",
    "\n",
    "# Отображение результатов классификации на графике\n",
    "plt.figure(figsize=(8, 6))\n",
    "plt.scatter(X_pca[:, 0], X_pca[:, 1], c=y, cmap=plt.cm.Paired)\n",
    "plt.xlabel('PCA component 1')\n",
    "plt.ylabel('PCA component 2')\n",
    "plt.title('k-NN classification (k=%i)' % best_k)\n",
    "plt.show()\n",
    "\n",
    "# Подсчет точности классификации на тестовой выборке\n",
    "accuracy = accuracy_score(y_test, y_pred)\n",
    "print(\"Accuracy: %0.3f\" % accuracy)"
   ]
  },
  {
   "cell_type": "code",
   "execution_count": null,
   "id": "edbdace0",
   "metadata": {},
   "outputs": [],
   "source": []
  },
  {
   "cell_type": "markdown",
   "id": "bacd32f1",
   "metadata": {},
   "source": [
    "##### Эксперимент №2"
   ]
  },
  {
   "cell_type": "code",
   "execution_count": 23,
   "id": "d0af59d7",
   "metadata": {},
   "outputs": [],
   "source": [
    "# test = 'первым пиратом пойду налево и попаду на шар'\n",
    "\n",
    "\n",
    "# test = preprocess_text(test)\n",
    "# nlp = spacy.load(\"jackal_ner_all_entities\") # все сущности посчитаны искусственно, механически\n",
    "# doc = nlp(test)\n",
    "# results = test_model(nlp, command)\n",
    "# for ent in doc.ents:\n",
    "#     print (ent.text, ent.label_)\n",
    "# # print(results[1])\n",
    "\n",
    "nlp = spacy.load(\"jackal_ner_trained_model_2\") # сущности определяются посредством обучения модели\n",
    "list_of_cores = []\n",
    "for i in all_commands_list2:\n",
    "    test = preprocess_text(i)\n",
    "    doc = nlp(test)\n",
    "    dict_ = {}\n",
    "    for ent in doc.ents:\n",
    "        dict_[ent.label_] = ent.text\n",
    "    #       print (ent.text, ent.label_)\n",
    "\n",
    "    new_string = (' ').join(dict_.values())\n",
    "    if new_string.isspace():\n",
    "        new_string= \"NaN\"\n",
    "    list_of_cores.append(new_string)\n",
    "    \n",
    "all_new_df['core_ent'] = list_of_cores"
   ]
  },
  {
   "cell_type": "code",
   "execution_count": 24,
   "id": "b2996631",
   "metadata": {},
   "outputs": [
    {
     "data": {
      "text/html": [
       "<div>\n",
       "<style scoped>\n",
       "    .dataframe tbody tr th:only-of-type {\n",
       "        vertical-align: middle;\n",
       "    }\n",
       "\n",
       "    .dataframe tbody tr th {\n",
       "        vertical-align: top;\n",
       "    }\n",
       "\n",
       "    .dataframe thead th {\n",
       "        text-align: right;\n",
       "    }\n",
       "</style>\n",
       "<table border=\"1\" class=\"dataframe\">\n",
       "  <thead>\n",
       "    <tr style=\"text-align: right;\">\n",
       "      <th></th>\n",
       "      <th>command</th>\n",
       "      <th>intent</th>\n",
       "      <th>entity</th>\n",
       "      <th>core_ent</th>\n",
       "    </tr>\n",
       "  </thead>\n",
       "  <tbody>\n",
       "    <tr>\n",
       "      <th>0</th>\n",
       "      <td>я пиратом быть хочу</td>\n",
       "      <td>choose_your_fighter</td>\n",
       "      <td>fighter</td>\n",
       "      <td>пират</td>\n",
       "    </tr>\n",
       "    <tr>\n",
       "      <th>1</th>\n",
       "      <td>хочу чтобы пираткой была третья</td>\n",
       "      <td>choose_your_fighter</td>\n",
       "      <td>fighter</td>\n",
       "      <td>пиратка третий</td>\n",
       "    </tr>\n",
       "    <tr>\n",
       "      <th>2</th>\n",
       "      <td>пират сделал третий с пиратом ход</td>\n",
       "      <td>choose_your_fighter</td>\n",
       "      <td>fighter</td>\n",
       "      <td>пират третий</td>\n",
       "    </tr>\n",
       "  </tbody>\n",
       "</table>\n",
       "</div>"
      ],
      "text/plain": [
       "                             command               intent   entity  \\\n",
       "0                я пиратом быть хочу  choose_your_fighter  fighter   \n",
       "1    хочу чтобы пираткой была третья  choose_your_fighter  fighter   \n",
       "2  пират сделал третий с пиратом ход  choose_your_fighter  fighter   \n",
       "\n",
       "         core_ent  \n",
       "0           пират  \n",
       "1  пиратка третий  \n",
       "2    пират третий  "
      ]
     },
     "execution_count": 24,
     "metadata": {},
     "output_type": "execute_result"
    }
   ],
   "source": [
    "all_new_df[:3]"
   ]
  },
  {
   "cell_type": "code",
   "execution_count": null,
   "id": "7084fa14",
   "metadata": {},
   "outputs": [],
   "source": [
    "sentences = all_new_df.core_ent\n",
    "\n",
    "# Преобразование каждого предложения в эмбеддинг\n",
    "embeddings_rubert_tiny_ner = []\n",
    "for sentence in sentences:\n",
    "   inputs = tokenizer(sentence, return_tensors=\"pt\")\n",
    "   outputs = model(**inputs)\n",
    "   last_hidden_state = outputs[0]  # замена строки\n",
    "   sentence_embedding = last_hidden_state.mean(dim=1).squeeze().tolist()\n",
    "   embeddings_rubert_tiny_ner.append(sentence_embedding)\n",
    "\n",
    "# получили список списков"
   ]
  },
  {
   "cell_type": "code",
   "execution_count": null,
   "id": "e82e780f",
   "metadata": {},
   "outputs": [],
   "source": [
    "embeddings_rubert_tiny_ner2 = np.array(embeddings_rubert_tiny_ner2)"
   ]
  },
  {
   "cell_type": "code",
   "execution_count": null,
   "id": "27877bf8",
   "metadata": {},
   "outputs": [],
   "source": [
    "np.save('embeddings_rubert_tiny_ner2.npy', embeddings_rubert_tiny_ner2)"
   ]
  },
  {
   "cell_type": "code",
   "execution_count": null,
   "id": "2f92de56",
   "metadata": {},
   "outputs": [],
   "source": [
    "all__new_df['intent'].nunique()"
   ]
  },
  {
   "cell_type": "code",
   "execution_count": null,
   "id": "ab8ed9d0",
   "metadata": {},
   "outputs": [],
   "source": [
    "from sklearn import preprocessing\n",
    "le = preprocessing.LabelEncoder()\n",
    "all_new_df['intent'] = le.fit_transform(all_new_df.intent)\n",
    "np.save('labels_ent2.npy', all_new_df.intent)"
   ]
  },
  {
   "cell_type": "code",
   "execution_count": null,
   "id": "13d19010",
   "metadata": {},
   "outputs": [],
   "source": [
    "import numpy as np\n",
    "from sklearn.model_selection import train_test_split\n",
    "\n",
    "X2 = np.load('embeddings_rubert_tiny_ner2.npy') # матрица признаков\n",
    "y2 = np.load('labels_ent2.npy') # вектор целевых переменных\n",
    "\n",
    "# Сначала разбиваем на train и test, с перемешиванием\n",
    "X_train2, X_test2, y_train2, y_test2 = train_test_split(X2, y2, test_size=0.2, shuffle=True, random_state=42)\n",
    "\n",
    "# Далее разбиваем train на train и validation, с перемешиванием\n",
    "X_train2, X_val2, y_train2, y_val2 = train_test_split(X_train2, y_train2, test_size=0.2, shuffle=True, random_state=42)"
   ]
  },
  {
   "cell_type": "code",
   "execution_count": null,
   "id": "34e99d69",
   "metadata": {},
   "outputs": [],
   "source": [
    "import numpy as np\n",
    "import matplotlib.pyplot as plt\n",
    "from sklearn.neighbors import KNeighborsClassifier\n",
    "from sklearn.model_selection import GridSearchCV\n",
    "from sklearn.model_selection import train_test_split\n",
    "from sklearn.decomposition import PCA\n",
    "from sklearn.metrics import accuracy_score\n",
    "\n",
    "\n",
    "# Поиск оптимального значения параметра k с помощью кросс-валидации\n",
    "knn = KNeighborsClassifier()\n",
    "param_grid = {'n_neighbors': [3, 5, 7, 9, 11]}\n",
    "grid_search = GridSearchCV(knn, param_grid, cv=5)\n",
    "grid_search.fit(X_train2, y_train2)\n",
    "best_k = grid_search.best_params_['n_neighbors']\n",
    "\n",
    "# Обучение модели k-NN с оптимальным значением параметра k\n",
    "knn = KNeighborsClassifier(n_neighbors=best_k)\n",
    "knn.fit(X_train2, y_train2)\n",
    "\n",
    "# Предсказание меток классов на тестовой выборке\n",
    "y_pred2 = knn.predict(X_test2)\n",
    "\n",
    "# Сокращение размерности признаков с помощью метода главных компонент\n",
    "pca = PCA(n_components=2)\n",
    "X_pca = pca.fit_transform(X2)\n",
    "\n",
    "# Отображение результатов классификации на графике\n",
    "plt.figure(figsize=(8, 6))\n",
    "plt.scatter(X_pca[:, 0], X_pca[:, 1], c=y, cmap=plt.cm.Paired)\n",
    "plt.xlabel('PCA component 1')\n",
    "plt.ylabel('PCA component 2')\n",
    "plt.title('k-NN classification (k=%i)' % best_k)\n",
    "plt.show()\n",
    "\n",
    "# Подсчет точности классификации на тестовой выборке\n",
    "accuracy = accuracy_score(y_test2, y_pred2)\n",
    "print(\"Accuracy: %0.3f\" % accuracy)"
   ]
  },
  {
   "cell_type": "code",
   "execution_count": null,
   "id": "f4e6f599",
   "metadata": {},
   "outputs": [],
   "source": []
  },
  {
   "cell_type": "markdown",
   "id": "fa90d768",
   "metadata": {},
   "source": [
    "## Считаем f-меру"
   ]
  },
  {
   "cell_type": "code",
   "execution_count": null,
   "id": "9273da9e",
   "metadata": {},
   "outputs": [],
   "source": [
    "from sklearn.metrics import f1_score, precision_score, recall_score\n",
    "\n",
    "\n",
    "# Print the results\n",
    "print(\"Precision:\", precision)\n",
    "print(\"Recall:\", recall)\n",
    "\n",
    "# Вычисление F-меры\n",
    "f_score = f1_score(y_true, y_pred)\n",
    "precision = precision_score(y_true, y_pred)\n",
    "recall = recall_score(y_true, y_pred)\n",
    "\n",
    "\n",
    "# Вычисление F-меры\n",
    "f_score2 = f1_score(y_true2, y_pred2)\n",
    "precision2 = precision_score(y_true2, y_pred2)\n",
    "recall2 = recall_score(y_true2, y_pred2)\n",
    "\n",
    "\n",
    "\n",
    "# Вывод результата\n",
    "print(f\"F1-score для эксперимента №1: {f_score}, precision: {precision}, recall: {recall}\")\n",
    "print(f\"F1-score для эксперимента №2 [модель с перефразом]: {f_score2}, precision: {precision2}, recall: {recall2}\")"
   ]
  },
  {
   "cell_type": "code",
   "execution_count": null,
   "id": "5b8baf61",
   "metadata": {},
   "outputs": [],
   "source": [
    "X_test_list = X_test[0].tolist()"
   ]
  },
  {
   "cell_type": "code",
   "execution_count": null,
   "id": "104c2636",
   "metadata": {},
   "outputs": [],
   "source": [
    "nlp = spacy.load(\"jackal_ner_trained_model\")\n",
    "y_pred = []\n",
    "for i in X_test_list:\n",
    "#     test = preprocess_text(i) -- меняет индекс вхождения слова, осторожно при сравнении по индексу вхождения\n",
    "    results = test_model(nlp, i)\n",
    "    if results is None:\n",
    "        y_pred.append(\"NaN\")\n",
    "#         print('NaN')\n",
    "    else:\n",
    "        y_pred.append(results[1])\n",
    "#         print(results[1])"
   ]
  },
  {
   "cell_type": "code",
   "execution_count": null,
   "id": "7eacb5a5",
   "metadata": {},
   "outputs": [],
   "source": [
    "y_true = y_test[1].tolist() "
   ]
  },
  {
   "cell_type": "code",
   "execution_count": null,
   "id": "a66f65b9",
   "metadata": {},
   "outputs": [],
   "source": [
    "# надо сравнить значения на y_pred и y_true, отношение y_pred к y_test\n",
    "\n",
    "# print(f'type(y_true) = {type(y_true)}, type(y_pred) = {type(y_pred)}')\n",
    "# len(y_pred) == len(y_true)"
   ]
  },
  {
   "cell_type": "markdown",
   "id": "b873dae6",
   "metadata": {},
   "source": [
    "### Метрики"
   ]
  },
  {
   "cell_type": "code",
   "execution_count": null,
   "id": "4895610d",
   "metadata": {},
   "outputs": [],
   "source": [
    "print(y_pred[12], y_true[12])"
   ]
  },
  {
   "cell_type": "code",
   "execution_count": null,
   "id": "30acdd0c",
   "metadata": {},
   "outputs": [],
   "source": [
    "TP, TN, FP, FN = 0, 0, 0, 0\n",
    "\n",
    "for i in range(0,len(y_true)):\n",
    "    if y_true[i] == y_pred[i]:\n",
    "        TP += 1\n",
    "    elif y_true[i] != \"NaN\" and y_pred[i] == \"NaN\":\n",
    "        FN += 1\n",
    "    elif y_true[i] == \"NaN\" and y_pred[i] != \"NaN\":\n",
    "        FP += 1     \n",
    "    elif y_true[i] == \"NaN\" and y_pred[i] == \"NaN\":\n",
    "        TN += 1 \n",
    "        \n",
    "print(f'Отношение верных ответов ко всему кол-ву строк (сравнение по индексам): {TP/len(y_true)}')"
   ]
  },
  {
   "cell_type": "code",
   "execution_count": null,
   "id": "6e494f9d",
   "metadata": {},
   "outputs": [],
   "source": [
    "len(y_true)"
   ]
  },
  {
   "cell_type": "code",
   "execution_count": null,
   "id": "03e1b459",
   "metadata": {
    "scrolled": true
   },
   "outputs": [],
   "source": [
    "print(f'значения для NER модели равна: {TP, TN, FP, FN}')"
   ]
  },
  {
   "cell_type": "code",
   "execution_count": null,
   "id": "6c0f1053",
   "metadata": {},
   "outputs": [],
   "source": [
    "# Ручная f-мера\n",
    "\n",
    "def f1_score (TP, TN, FP, FN):\n",
    "    precision = TP / (TP + FP)\n",
    "    recall = TP / (TP + FN)\n",
    "    f1_score = (2 * precision * recall) / (precision + recall)\n",
    "    \n",
    "    return f1_score"
   ]
  },
  {
   "cell_type": "code",
   "execution_count": null,
   "id": "2e17c2ba",
   "metadata": {},
   "outputs": [],
   "source": [
    "print(f1_score(TP, TN, FP, FN))"
   ]
  },
  {
   "cell_type": "code",
   "execution_count": null,
   "id": "973306b6",
   "metadata": {},
   "outputs": [],
   "source": [
    "print(f'F1-мера NER модели равна: {f1_score(TP, TN, FP, FN)}') # но на самом деле так потому что нет TN и FP"
   ]
  },
  {
   "cell_type": "code",
   "execution_count": null,
   "id": "ea99a0bc",
   "metadata": {},
   "outputs": [],
   "source": []
  },
  {
   "cell_type": "code",
   "execution_count": null,
   "id": "7d5641cf",
   "metadata": {},
   "outputs": [],
   "source": []
  },
  {
   "cell_type": "code",
   "execution_count": null,
   "id": "e67ac99d",
   "metadata": {},
   "outputs": [],
   "source": []
  }
 ],
 "metadata": {
  "kernelspec": {
   "display_name": "Python 3 (ipykernel)",
   "language": "python",
   "name": "python3"
  },
  "language_info": {
   "codemirror_mode": {
    "name": "ipython",
    "version": 3
   },
   "file_extension": ".py",
   "mimetype": "text/x-python",
   "name": "python",
   "nbconvert_exporter": "python",
   "pygments_lexer": "ipython3",
   "version": "3.9.12"
  }
 },
 "nbformat": 4,
 "nbformat_minor": 5
}
