{
 "cells": [
  {
   "cell_type": "code",
   "execution_count": 16,
   "id": "1d04efe9",
   "metadata": {},
   "outputs": [],
   "source": [
    "actor = ['пират', 'корабль', 'судно', \n",
    "         # добавленные\n",
    "         \"лодка\", \"борт\", \"пиратка\"]"
   ]
  },
  {
   "cell_type": "code",
   "execution_count": 17,
   "id": "9e30a0d9",
   "metadata": {},
   "outputs": [],
   "source": [
    "# Python program to store list to JSON file\n",
    "import json\n",
    "\n",
    "def write_list(a_list):\n",
    "    with open(\"NER_act.json\", \"w\", encoding='utf8') as f:\n",
    "        json.dump(a_list, f, ensure_ascii=False)\n",
    "\n",
    "write_list(actor)"
   ]
  },
  {
   "cell_type": "code",
   "execution_count": null,
   "id": "0631d66e",
   "metadata": {},
   "outputs": [],
   "source": []
  },
  {
   "cell_type": "code",
   "execution_count": null,
   "id": "206a9c38",
   "metadata": {},
   "outputs": [],
   "source": []
  }
 ],
 "metadata": {
  "kernelspec": {
   "display_name": "Python 3 (ipykernel)",
   "language": "python",
   "name": "python3"
  },
  "language_info": {
   "codemirror_mode": {
    "name": "ipython",
    "version": 3
   },
   "file_extension": ".py",
   "mimetype": "text/x-python",
   "name": "python",
   "nbconvert_exporter": "python",
   "pygments_lexer": "ipython3",
   "version": "3.9.12"
  }
 },
 "nbformat": 4,
 "nbformat_minor": 5
}
