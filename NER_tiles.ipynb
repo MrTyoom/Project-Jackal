{
 "cells": [
  {
   "cell_type": "code",
   "execution_count": 9,
   "id": "5d1b91c0",
   "metadata": {},
   "outputs": [],
   "source": [
    "tiles = ['поляна', 'пустышка', 'стрелка', 'указатель', \n",
    "        'конь', 'лошадь', 'бочка', 'лабиринт', 'джунгли', 'пустыня', 'болото',\n",
    "        'горы', 'лед', 'капкан', 'ловушка', 'крокодил', 'людоед', 'крепость',\n",
    "        'сундук', 'деньги', 'сокровища', 'воздушный шар', 'шар', 'самолет', 'пушка', \n",
    "        # добавленные\n",
    "         \"сокровище\", \"сокровищница\", \"тропик\",\"золотишко\", \"пустынь\", \"заросль\", \n",
    "         \"лёд\", \"гора\", \"скала\" , \"лес\", \"девушка\", \"абориген\",\n",
    "         \"монета\", \"золото\", \"деньга\", \"самолёт\", \"палуба\", \"штурвал\", \"песок\", \"дюна\", \"клетка\",\n",
    "         \"сундучок\", \"мелочь\", \"клеточка\", \"кораблик\", \"аборигенка\", \"монетка\" , \"холм\", \"клад\", \n",
    "         \"лайнер\", \"тропический\", \"леса\"]"
   ]
  },
  {
   "cell_type": "code",
   "execution_count": 10,
   "id": "547006a2",
   "metadata": {},
   "outputs": [],
   "source": [
    "# Python program to store list to JSON file\n",
    "import json\n",
    "\n",
    "def write_list(a_list):\n",
    "    with open(\"NER_tiles.json\", \"w\", encoding='utf8') as f:\n",
    "        json.dump(a_list, f, ensure_ascii=False)\n",
    "\n",
    "write_list(tiles)"
   ]
  },
  {
   "cell_type": "code",
   "execution_count": null,
   "id": "9364d220",
   "metadata": {},
   "outputs": [],
   "source": []
  }
 ],
 "metadata": {
  "kernelspec": {
   "display_name": "Python 3 (ipykernel)",
   "language": "python",
   "name": "python3"
  },
  "language_info": {
   "codemirror_mode": {
    "name": "ipython",
    "version": 3
   },
   "file_extension": ".py",
   "mimetype": "text/x-python",
   "name": "python",
   "nbconvert_exporter": "python",
   "pygments_lexer": "ipython3",
   "version": "3.9.12"
  }
 },
 "nbformat": 4,
 "nbformat_minor": 5
}
