{
  "nbformat": 4,
  "nbformat_minor": 0,
  "metadata": {
    "colab": {
      "provenance": [],
      "collapsed_sections": [
        "4v3EZd0OVAyF"
      ]
    },
    "kernelspec": {
      "name": "python3",
      "display_name": "Python 3"
    },
    "language_info": {
      "name": "python"
    },
    "accelerator": "GPU",
    "gpuClass": "standard"
  },
  "cells": [
    {
      "cell_type": "markdown",
      "source": [
        "## Back Translation && Paraphrasing"
      ],
      "metadata": {
        "id": "mbfSzvL8Wdcm"
      }
    },
    {
      "cell_type": "code",
      "execution_count": 1,
      "metadata": {
        "id": "Y-0WdVNEZ56X"
      },
      "outputs": [],
      "source": [
        "from transformers import T5ForConditionalGeneration, T5Tokenizer\n",
        "MODEL_NAME = 'cointegrated/rut5-base-paraphraser'\n",
        "model = T5ForConditionalGeneration.from_pretrained(MODEL_NAME)\n",
        "tokenizer = T5Tokenizer.from_pretrained(MODEL_NAME)\n",
        "model.cuda();\n",
        "model.eval();\n",
        "\n",
        "def paraphrase(text, beams=5, grams=4):\n",
        "    x = tokenizer(text, return_tensors='pt', padding=True).to(model.device)\n",
        "    max_size = int(x.input_ids.shape[1] * 1.5 + 10)\n",
        "    out = model.generate(**x, encoder_no_repeat_ngram_size=grams, num_beams=beams, max_length=max_size)\n",
        "    return tokenizer.decode(out[0], skip_special_tokens=True)"
      ]
    },
    {
      "cell_type": "code",
      "source": [
        "def paraphrase_all(commands: list):\n",
        "    paraphrased = []\n",
        "    for command in commands:\n",
        "      paraphrased.append(paraphrase(command))\n",
        "    return paraphrased"
      ],
      "metadata": {
        "id": "R--wrLTDo50z"
      },
      "execution_count": 2,
      "outputs": []
    },
    {
      "cell_type": "code",
      "source": [
        "from transformers import MarianMTModel, MarianTokenizer\n",
        "\n",
        "# load models\n",
        "language_code = 'sl'\n",
        "target_model_name = f'Helsinki-NLP/opus-mt-ru-{language_code}'\n",
        "target_tokenizer = MarianTokenizer.from_pretrained(target_model_name)\n",
        "target_model = MarianMTModel.from_pretrained(target_model_name)\n",
        "back_model_name = f'Helsinki-NLP/opus-mt-{language_code}-ru'\n",
        "back_tokenizer = MarianTokenizer.from_pretrained(back_model_name)\n",
        "back_model = MarianMTModel.from_pretrained(back_model_name)\n",
        "\n",
        "\n",
        "def back_translation(batch_texts: list): \n",
        "    # translate\n",
        "    translated_commands = perform_translation(batch_texts, target_model, target_tokenizer, 'sl')\n",
        "    back_translated_commands = perform_translation(translated_commands, back_model, back_tokenizer, 'ru')\n",
        "    return back_translated_commands\n",
        "    \n",
        "\n",
        "\n",
        "def perform_translation(batch_texts: list, model, tokenizer, target_language: str):\n",
        "    translated = model.generate(**tokenizer(batch_texts, return_tensors=\"pt\", padding=True))\n",
        "    translated_texts = [tokenizer.decode(t, skip_special_tokens=True) for t in translated]\n",
        "    return translated_texts"
      ],
      "metadata": {
        "colab": {
          "base_uri": "https://localhost:8080/"
        },
        "id": "8H3QhyiipJS6",
        "outputId": "086ce4da-e46f-40cc-8817-6eb42a3ca9e8"
      },
      "execution_count": 3,
      "outputs": [
        {
          "output_type": "stream",
          "name": "stderr",
          "text": [
            "/usr/local/lib/python3.9/dist-packages/transformers/models/marian/tokenization_marian.py:194: UserWarning: Recommended: pip install sacremoses.\n",
            "  warnings.warn(\"Recommended: pip install sacremoses.\")\n"
          ]
        }
      ]
    },
    {
      "cell_type": "code",
      "source": [
        "def merge_2(original_commands: list, augmented_commands: list):\n",
        "    new_items = set(augmented_commands) - set(original_commands)\n",
        "    merge_result = original_commands + list(new_items)\n",
        "    return merge_result\n",
        "\n",
        "def merge(lists_to_merge: list):\n",
        "  res = []\n",
        "  for l in lists_to_merge:\n",
        "    res = merge_2(res, l)\n",
        "  return res"
      ],
      "metadata": {
        "id": "CH8v9PGSpRsp"
      },
      "execution_count": 4,
      "outputs": []
    },
    {
      "cell_type": "code",
      "source": [
        "def first_augmentation(commands: list):\n",
        "  \"\"\" Composition of back translation and paraphrasing \"\"\"\n",
        "  commands_sl = back_translation(commands)\n",
        "  commands_paraphrased = paraphrase_all(commands)\n",
        "  paraphrase_slovenian = paraphrase_all(commands_sl)\n",
        "  to_slovenian_paraphrased = back_translation(commands_paraphrased)\n",
        "  all = merge([commands, commands_paraphrased, commands_sl, paraphrase_slovenian, to_slovenian_paraphrased])\n",
        "  all = [item.lower() for item in all]\n",
        "  return all"
      ],
      "metadata": {
        "id": "OWVjg5BuRlXU"
      },
      "execution_count": 5,
      "outputs": []
    },
    {
      "cell_type": "code",
      "source": [
        "commands = {\n",
        " 'move_ship_right' :  \n",
        "  ['подвинь корабль вправо',\n",
        "  'плыви вправо',\n",
        "  'плыву направо',\n",
        "  'двигаюсь кораблем вправо',\n",
        "  'право руля',\n",
        "  'уплыви вправо',\n",
        "  'отчаливаю направо',\n",
        "  'судно направо',\n",
        "  'мы поплывем правее', \n",
        "  'на лодке вправо',\n",
        "  'врубай мотор идем на восток',\n",
        "  'кораблем направо',\n",
        "  'я иду кораблем направо',\n",
        "  'корабль на клетку вправо',\n",
        "  'шаг правее кораблем'],\n",
        "\n",
        "'move_ship_left' :  \n",
        "  ['подвинь корабль влево',\n",
        "  'плыви налево',\n",
        "  'плыву влево',\n",
        "  'двигаюсь кораблем влево',\n",
        "  'лево руля',\n",
        "  'уплыви влевво',\n",
        "  'отчаливаю налево',\n",
        "  'судно налево',\n",
        "  'мы поплывем левее', \n",
        "  'на лодке налево',\n",
        "  'врубай мотор идем на запад',\n",
        "  'кораблем налево',\n",
        "  'я иду кораблем налево',\n",
        "  'корабль на клетку влево',\n",
        "  'шаг левее кораблем'],\n",
        "\n",
        "'nothing' : \n",
        "  ['ты не прав',\n",
        "  'она права насчет этого', \n",
        "  'это мое право', \n",
        "  'по правде говоря корабли не летают',\n",
        "  'люблю чебуреки', \n",
        "  'что про лево то сказать', \n",
        "  'левшей меньше чем правшей',\n",
        "  'знаешь мем про лев и прав',\n",
        "  'как судак и тудак', \n",
        "  'хочу морепродуктов',\n",
        "  'сейчас бы куда-нибудь уплыть',\n",
        "  'хочу в круиз на корабле',\n",
        "  'плавание это олимпийский вид спорта',\n",
        "  'он отчалил вчера на лодке',\n",
        "  'я рыбачу с лодки свесив удочку направо']}"
      ],
      "metadata": {
        "id": "HmAR1FWXpU90"
      },
      "execution_count": 6,
      "outputs": []
    },
    {
      "cell_type": "code",
      "source": [
        "commands['move_ship_right'] = first_augmentation(commands['move_ship_right'])\n",
        "commands['move_ship_left'] = first_augmentation(commands['move_ship_left'])\n",
        "commands['nothing'] = first_augmentation(commands['nothing'])"
      ],
      "metadata": {
        "id": "l2BgPzVhSUd7"
      },
      "execution_count": null,
      "outputs": []
    },
    {
      "cell_type": "markdown",
      "source": [
        "### Немного ручной чистки..."
      ],
      "metadata": {
        "id": "4v3EZd0OVAyF"
      }
    },
    {
      "cell_type": "code",
      "source": [
        "commands['move_ship_right'] = ['мы поплывем правее',\n",
        " 'плыви вправо',\n",
        " 'право руля',\n",
        " 'отчаливаю направо',\n",
        " 'врубай мотор идем на восток',\n",
        " 'судно направо',\n",
        " 'шаг правее кораблем',\n",
        " 'плыву направо',\n",
        " 'кораблем направо',\n",
        " 'двигаюсь кораблем вправо',\n",
        " 'я иду кораблем направо',\n",
        " 'корабль на клетку вправо',\n",
        " 'на лодке вправо',\n",
        " 'подвинь корабль вправо',\n",
        " 'уплыви вправо',\n",
        " 'я двигаюсь вправо кораблем',\n",
        " 'уплывите вправо.',\n",
        " 'я отчалил направо.',\n",
        " 'право руля.',\n",
        " 'мы пойдем лучше.',\n",
        " 'корабль вправо на клетку',\n",
        " 'я иду направо.',\n",
        " 'на корабле направо.',\n",
        " 'поведи корабль в правую сторону',\n",
        " 'на правой лодке.',\n",
        " 'я иду направо кораблем',\n",
        " 'судно направо.',\n",
        " 'отплывать вправо',\n",
        " 'заводи мотор. мы едем на восток.',\n",
        " 'по правому борту',\n",
        " 'поверни корабль направо.',\n",
        " 'отправляюсь направо.',\n",
        " 'плыви направо.',\n",
        " 'я двигаюсь на корабле направо.',\n",
        " 'плыву направо.',\n",
        " 'корабль направо.',\n",
        " 'шаг направо от корабля',\n",
        " 'мы поплывем направо.',\n",
        " 'я поплыву на корабле направо.',\n",
        " 'правый рулевой',\n",
        " 'на борту правого борта.',\n",
        " 'с кораблём по правому борту',\n",
        " 'хороший рулевой.',\n",
        " 'отплыть вправо.',\n",
        " 'мы поплывём направо налево.',\n",
        " 'я направо пойду на корабль.',\n",
        " 'на правом борту.',\n",
        " 'с кораблем на правом борту',\n",
        " 'на корабле я направо двигаюсь.',\n",
        " 'заводи мотор, мы едем на восток.',\n",
        " 'пляж направо.',\n",
        " 'правый борт.',\n",
        " 'я поплыву направо на корабле.',\n",
        " 'посадка на корабль направо.',\n",
        " 'на правом катере.',\n",
        " 'корабль по правому борту к клетке.',\n",
        " 'мы едем на восток.']\n",
        "\n",
        "\n",
        "commands['move_ship_left'] = ['на лодке налево',\n",
        " 'отчаливаю налево',\n",
        " 'уплыви влевво',\n",
        " 'я иду кораблем налево',\n",
        " 'врубай мотор идем на запад',\n",
        " 'мы поплывем левее',\n",
        " 'плыви налево',\n",
        " 'двигаюсь кораблем влево',\n",
        " 'кораблем налево',\n",
        " 'плыву влево',\n",
        " 'корабль на клетку влево',\n",
        " 'шаг левее кораблем',\n",
        " 'лево руля',\n",
        " 'судно налево',\n",
        " 'подвинь корабль влево',\n",
        " 'я иду налево кораблем',\n",
        " 'я отчалил налево.',\n",
        " 'я двигаюсь влево кораблем',\n",
        " 'шаг левее корабля',\n",
        " 'мы пойдем левее.',\n",
        " 'левый руль.',\n",
        " 'судно налево.',\n",
        " 'на левой лодке.',\n",
        " 'корабль влево на клетку',\n",
        " 'уплыви влево.',\n",
        " 'давай давай на запад',\n",
        " 'налево кораблем.',\n",
        " 'поведи корабль в левую сторону',\n",
        " 'корабль налево.',\n",
        " 'плыви налево.',\n",
        " 'корабль слева.',\n",
        " 'на корабле налево.',\n",
        " 'плыви влево',\n",
        " 'я двигаюсь на корабле влево.',\n",
        " 'отправляюсь влево',\n",
        " 'руль слева',\n",
        " 'мы поплывем налево.',\n",
        " 'заводи мотор. мы едем на запад.',\n",
        " 'передвиньте корабль влево.',\n",
        " 'на борту левого борта.',\n",
        " 'я плыву налево.',\n",
        " 'я полечу на корабле налево.',\n",
        " 'шаг влево от корабля',\n",
        " 'передвините корабль в левую сторону.',\n",
        " 'заводите мотор. мы поедем на западе.',\n",
        " 'плывай влево.',\n",
        " 'на левом борту.',\n",
        " 'мы поплывём на левую сторону.',\n",
        " 'я налево плыву.',\n",
        " 'я двигаюсь влево на корабле.',\n",
        " 'я пойду на корабль влево.',\n",
        " 'корабль влево на клетку.',\n",
        " 'на левом корабле.',\n",
        " 'езжай на запад.',\n",
        " 'слева от корабля.',\n",
        " 'я полечу налево на корабле.',\n",
        " 'левый рулевой.',\n",
        " 'пляж слева.']\n",
        "\n",
        " # nothing's OK"
      ],
      "metadata": {
        "id": "Oz6Ar8cISfeo"
      },
      "execution_count": 8,
      "outputs": []
    },
    {
      "cell_type": "markdown",
      "source": [
        "## Defne EDA"
      ],
      "metadata": {
        "id": "aT3HmYqxuBf0"
      }
    },
    {
      "cell_type": "code",
      "source": [
        "import random\n",
        "from random import shuffle\n",
        "random.seed(1)\n",
        "\n",
        "stop_words = ['я', 'мы', 'наш', 'мой', 'сейчас', 'тогда', 'он', 'его',\n",
        "             'она', 'ее', 'для', 'на', 'в', 'по', 'это', 'этот', 'с', 'от', 'при', 'к',\n",
        "              'быть', 'право', 'вправо', 'направо', 'правый', 'правее', 'лево', 'влево',\n",
        "              'налево', 'левый', 'левее', 'слева']"
      ],
      "metadata": {
        "id": "1pm5FL-Nt05f"
      },
      "execution_count": 9,
      "outputs": []
    },
    {
      "cell_type": "markdown",
      "source": [
        "#### Formatting"
      ],
      "metadata": {
        "id": "1BymCpsNuZ6r"
      }
    },
    {
      "cell_type": "code",
      "source": [
        "import re\n",
        "import pymorphy2\n",
        "\n",
        "def format_command(command):\n",
        "    result = ''\n",
        "    command = command.lower()\n",
        "    for char in command:\n",
        "        if char in ' йцукенгшщзхъфывапролджэжячсмитьбюё':\n",
        "            result += char\n",
        "    result = re.sub(' +', ' ', result) # delete extra spaces\n",
        "    if result != '':\n",
        "      if result[0] == ' ':\n",
        "          result = result[1:]\n",
        "      result = to_normal_form(result)\n",
        "    return result\n",
        "\n",
        "\n",
        "morph = pymorphy2.MorphAnalyzer()\n",
        "\n",
        "def to_normal_form(command: str):\n",
        "    words = command.split(' ')\n",
        "    new_command = ''\n",
        "    for word in words:\n",
        "        new_command += morph.parse(word)[0].normal_form + ' '\n",
        "    return new_command[:-1]"
      ],
      "metadata": {
        "id": "uPg4Jp-guU8J"
      },
      "execution_count": 10,
      "outputs": []
    },
    {
      "cell_type": "markdown",
      "source": [
        "#### Swap words"
      ],
      "metadata": {
        "id": "B_tguyJWu7ZH"
      }
    },
    {
      "cell_type": "code",
      "source": [
        "def random_swap(words, n):\n",
        "    new_words = words.copy()\n",
        "    for _ in range(n):\n",
        "        new_words = swap_word(new_words)\n",
        "    return new_words\n",
        "\n",
        "def swap_word(new_words):\n",
        "    random_idx_1 = random.randint(0, len(new_words)-1)\n",
        "    random_idx_2 = random_idx_1\n",
        "    counter = 0\n",
        "    while random_idx_2 == random_idx_1:\n",
        "        random_idx_2 = random.randint(0, len(new_words)-1)\n",
        "        counter += 1\n",
        "        if counter > 3:\n",
        "            return new_words\n",
        "    new_words[random_idx_1], new_words[random_idx_2] = new_words[random_idx_2], new_words[random_idx_1] \n",
        "    return new_words"
      ],
      "metadata": {
        "id": "PEGP-hQquwr6"
      },
      "execution_count": 11,
      "outputs": []
    },
    {
      "cell_type": "markdown",
      "source": [
        "#### Replace with synonyms"
      ],
      "metadata": {
        "id": "sdw7xbI0AjkP"
      }
    },
    {
      "cell_type": "code",
      "source": [
        "def replace_with_synonym(words: list, n: int):\n",
        "    \"\"\"\n",
        "    Replaces n random words with a synonym\n",
        "    \"\"\"\n",
        "    new_words = words.copy()\n",
        "    words_to_replace = list()\n",
        "    word_position = dict()\n",
        "    for i, word in enumerate(words):\n",
        "        if word not in stop_words:\n",
        "          if is_in_vocab(word):\n",
        "              words_to_replace.append(word)\n",
        "        word_position[word] = i\n",
        "    random.shuffle(words_to_replace)\n",
        "    \n",
        "    replaced = 0\n",
        "    for replace_word in words_to_replace:\n",
        "        synonyms = get_synonyms(replace_word)\n",
        "        if len(synonyms) == 0:\n",
        "            continue\n",
        "        # pick random synonym\n",
        "        new_word = format_command(random.choice(synonyms))\n",
        "        new_words[word_position[replace_word]] = new_word\n",
        "        replaced += 1\n",
        "        if replaced == n:\n",
        "            break\n",
        "\n",
        "    return new_words"
      ],
      "metadata": {
        "id": "SnZNS0Lgu-ty"
      },
      "execution_count": 12,
      "outputs": []
    },
    {
      "cell_type": "markdown",
      "source": [
        "#### Insert words"
      ],
      "metadata": {
        "id": "zGoN-zQqW3M4"
      }
    },
    {
      "cell_type": "code",
      "source": [
        "def random_insertion(words, n):\n",
        "    new_words = words.copy()\n",
        "    for _ in range(n):\n",
        "        add_word(new_words)\n",
        "    return new_words\n",
        "\n",
        "def add_word(new_words):\n",
        "    synonyms = []\n",
        "    counter = 0\n",
        "    while len(synonyms) < 1:\n",
        "        random_word = new_words[random.randint(0, len(new_words)-1)]\n",
        "        counter += 1\n",
        "        if counter >= 10:\n",
        "            return\n",
        "        if random_word in stop_words or not is_in_vocab(random_word):\n",
        "          continue\n",
        "        synonyms = get_synonyms(random_word)\n",
        "    random_synonym = synonyms[0]\n",
        "    random_idx = random.randint(0, len(new_words)-1)\n",
        "    new_words.insert(random_idx, random_synonym)"
      ],
      "metadata": {
        "id": "PMELI4kT__kE"
      },
      "execution_count": 13,
      "outputs": []
    },
    {
      "cell_type": "markdown",
      "source": [
        "#### Create pipeline"
      ],
      "metadata": {
        "id": "KgW2z8iMW6U-"
      }
    },
    {
      "cell_type": "code",
      "source": [
        "def eda(sentence, alpha_sr=0.1, alpha_ri=0.1, alpha_rs=0.1, p_rd=0.1, num_aug=9):\n",
        "\n",
        "    sentence = format_command(sentence)\n",
        "    words = sentence.split(' ')\n",
        "    words = [word for word in words if word != '']\n",
        "    num_words = len(words)\n",
        "\n",
        "    augmented_sentences = []\n",
        "    num_new_per_technique = int(num_aug/4)+1\n",
        "\n",
        "    #sr\n",
        "    if (alpha_sr > 0):\n",
        "        n_sr = max(1, int(alpha_sr*num_words))\n",
        "        for _ in range(num_new_per_technique):\n",
        "            a_words = replace_with_synonym(words, n_sr)\n",
        "            augmented_sentences.append(' '.join(a_words))\n",
        "\n",
        "    #ri\n",
        "    if (alpha_ri > 0):\n",
        "        n_ri = max(1, int(alpha_ri*num_words))\n",
        "        for _ in range(num_new_per_technique):\n",
        "            a_words = random_insertion(words, n_ri)\n",
        "            augmented_sentences.append(' '.join(a_words))\n",
        "\n",
        "    #rs\n",
        "    if (alpha_rs > 0):\n",
        "        n_rs = max(1, int(alpha_rs*num_words))\n",
        "        for _ in range(num_new_per_technique):\n",
        "            a_words = random_swap(words, n_rs)\n",
        "            augmented_sentences.append(' '.join(a_words))\n",
        "\n",
        "    augmented_sentences = [format_command(sentence) for sentence in augmented_sentences]\n",
        "    shuffle(augmented_sentences)\n",
        "\n",
        "    #trim so that we have the desired number of augmented sentences\n",
        "    if num_aug >= 1:\n",
        "        augmented_sentences = augmented_sentences[:num_aug]\n",
        "    else:\n",
        "        keep_prob = num_aug / len(augmented_sentences)\n",
        "        augmented_sentences = [s for s in augmented_sentences if random.uniform(0, 1) < keep_prob]\n",
        "\n",
        "    #append the original sentence\n",
        "    augmented_sentences.append(sentence)\n",
        "\n",
        "    return augmented_sentences"
      ],
      "metadata": {
        "id": "mGimjSqcAAb7"
      },
      "execution_count": 14,
      "outputs": []
    },
    {
      "cell_type": "markdown",
      "source": [
        "### For synonyms (word2vec)"
      ],
      "metadata": {
        "id": "ePfsNNuLvhcs"
      }
    },
    {
      "cell_type": "code",
      "source": [
        "tags_conversion = {\n",
        "    \"A\": \"ADJ\",\n",
        "    \"ADV\": \"ADV\",\n",
        "    \"ADVPRO\": \"ADV\",\n",
        "    \"ANUM\": \"ADJ\",\n",
        "    \"APRO\": \"DET\",\n",
        "    \"COM\": \"ADJ\",\n",
        "    \"CONJ\": \"SCONJ\",\n",
        "    \"INTJ\": \"INTJ\",\n",
        "    \"NONLEX\": \"X\",\n",
        "    \"NUM\": \"NUM\",\n",
        "    \"PART\": \"PART\",\n",
        "    \"PR\": \"ADP\",\n",
        "    \"S\": \"NOUN\",\n",
        "    \"SPRO\": \"PRON\",\n",
        "    \"UNKN\": \"X\",\n",
        "    \"V\": \"VERB\"\n",
        "}"
      ],
      "metadata": {
        "id": "8EWXxCCQ1dzP"
      },
      "execution_count": 15,
      "outputs": []
    },
    {
      "cell_type": "code",
      "source": [
        "import gensim.downloader\n",
        "\n",
        "vectors = gensim.downloader.load('word2vec-ruscorpora-300')"
      ],
      "metadata": {
        "id": "k_J1IpngjASE"
      },
      "execution_count": 16,
      "outputs": []
    },
    {
      "cell_type": "code",
      "source": [
        "from pymystem3 import Mystem\n",
        "\n",
        "m = Mystem()\n",
        "\n",
        "def tag_word(word: str):\n",
        "    processed = m.analyze(word)[0]\n",
        "    lemma = processed[\"analysis\"][0][\"lex\"].lower().strip()\n",
        "    pos = processed[\"analysis\"][0][\"gr\"].split(',')[0]\n",
        "    pos = pos.split('=')[0].strip()\n",
        "    tagged = lemma+'_'+tags_conversion[pos]\n",
        "    return tagged\n",
        "\n",
        "def is_in_vocab(word: str):\n",
        "  try:\n",
        "    word = tag_word(word)\n",
        "    syns = vectors.most_similar(positive=word)\n",
        "    return True\n",
        "  except:\n",
        "    return False\n",
        "    \n",
        "\n",
        "def get_synonyms(word: str):\n",
        "  synonyms_vec = vectors.most_similar(positive=tag_word(word))\n",
        "  synonyms = [item[0].split('_')[0] for item in synonyms_vec]\n",
        "  return synonyms"
      ],
      "metadata": {
        "id": "8SVMjldjyk1A"
      },
      "execution_count": 17,
      "outputs": []
    },
    {
      "cell_type": "markdown",
      "source": [
        "## Augment with EDA\n",
        "\n"
      ],
      "metadata": {
        "id": "03lndRu-uF3o"
      }
    },
    {
      "cell_type": "code",
      "source": [
        "total_commands_count = 0\n",
        "for intent in commands.keys():\n",
        "  total_commands_count += len(commands[intent])"
      ],
      "metadata": {
        "id": "Iwh_-EssbbQI"
      },
      "execution_count": 18,
      "outputs": []
    },
    {
      "cell_type": "code",
      "source": [
        "count = 0\n",
        "progress_percentage = 0\n",
        "augmented_commands = {}\n",
        "\n",
        "for intent in commands.keys():\n",
        "  all = commands[intent]\n",
        "  augmented_all = []\n",
        "  for command in all:\n",
        "    augmented = eda(command)\n",
        "    augmented_all = merge([augmented_all, augmented])\n",
        "    \n",
        "    count += 1\n",
        "    if round((count / total_commands_count)*100) > progress_percentage:\n",
        "      progress_percentage = round((count / total_commands_count)*100)\n",
        "      if progress_percentage % 10 == 0:\n",
        "        print(f'{progress_percentage}% done...')\n",
        "  augmented_commands[intent] = augmented_all"
      ],
      "metadata": {
        "id": "ZPbLA4AnuFRR"
      },
      "execution_count": null,
      "outputs": []
    },
    {
      "cell_type": "markdown",
      "source": [
        "## Export"
      ],
      "metadata": {
        "id": "-Iy78KMUZMgM"
      }
    },
    {
      "cell_type": "code",
      "source": [
        "intent_column = []\n",
        "command_column = []\n",
        "\n",
        "for intent in augmented_commands.keys():\n",
        "  for command in augmented_commands[intent]:\n",
        "    command_column.append(command)\n",
        "    intent_column.append(intent)"
      ],
      "metadata": {
        "id": "lBxaiQXkod3Z"
      },
      "execution_count": 20,
      "outputs": []
    },
    {
      "cell_type": "code",
      "source": [
        "import pandas as pd\n",
        "\n",
        "df = pd.DataFrame({'command': command_column, 'intent': intent_column})"
      ],
      "metadata": {
        "id": "4Xbif2VFaPbz"
      },
      "execution_count": 21,
      "outputs": []
    },
    {
      "cell_type": "code",
      "source": [
        "df"
      ],
      "metadata": {
        "colab": {
          "base_uri": "https://localhost:8080/",
          "height": 423
        },
        "id": "wT39V3EnaiJM",
        "outputId": "81998088-38e4-4595-941b-d7aa1af69007"
      },
      "execution_count": 22,
      "outputs": [
        {
          "output_type": "execute_result",
          "data": {
            "text/plain": [
              "                                command           intent\n",
              "0                 на лодка катер вправо  move_ship_right\n",
              "1              мы бултых направо налево  move_ship_right\n",
              "2                    на эскадра направо  move_ship_right\n",
              "3              плыть мы поплыть направо  move_ship_right\n",
              "4            я поплыть направо на судно  move_ship_right\n",
              "...                                 ...              ...\n",
              "1352  я хотеть судно попасть на корабль          nothing\n",
              "1353          я хотеть попасть на катер          nothing\n",
              "1354        я хотеть корабль на попасть          nothing\n",
              "1355      я хотеть очутиться на корабль          nothing\n",
              "1356        я хотеть попасть на корабль          nothing\n",
              "\n",
              "[1357 rows x 2 columns]"
            ],
            "text/html": [
              "\n",
              "  <div id=\"df-dcb2af03-dad9-4af4-83eb-9283f50deacd\">\n",
              "    <div class=\"colab-df-container\">\n",
              "      <div>\n",
              "<style scoped>\n",
              "    .dataframe tbody tr th:only-of-type {\n",
              "        vertical-align: middle;\n",
              "    }\n",
              "\n",
              "    .dataframe tbody tr th {\n",
              "        vertical-align: top;\n",
              "    }\n",
              "\n",
              "    .dataframe thead th {\n",
              "        text-align: right;\n",
              "    }\n",
              "</style>\n",
              "<table border=\"1\" class=\"dataframe\">\n",
              "  <thead>\n",
              "    <tr style=\"text-align: right;\">\n",
              "      <th></th>\n",
              "      <th>command</th>\n",
              "      <th>intent</th>\n",
              "    </tr>\n",
              "  </thead>\n",
              "  <tbody>\n",
              "    <tr>\n",
              "      <th>0</th>\n",
              "      <td>на лодка катер вправо</td>\n",
              "      <td>move_ship_right</td>\n",
              "    </tr>\n",
              "    <tr>\n",
              "      <th>1</th>\n",
              "      <td>мы бултых направо налево</td>\n",
              "      <td>move_ship_right</td>\n",
              "    </tr>\n",
              "    <tr>\n",
              "      <th>2</th>\n",
              "      <td>на эскадра направо</td>\n",
              "      <td>move_ship_right</td>\n",
              "    </tr>\n",
              "    <tr>\n",
              "      <th>3</th>\n",
              "      <td>плыть мы поплыть направо</td>\n",
              "      <td>move_ship_right</td>\n",
              "    </tr>\n",
              "    <tr>\n",
              "      <th>4</th>\n",
              "      <td>я поплыть направо на судно</td>\n",
              "      <td>move_ship_right</td>\n",
              "    </tr>\n",
              "    <tr>\n",
              "      <th>...</th>\n",
              "      <td>...</td>\n",
              "      <td>...</td>\n",
              "    </tr>\n",
              "    <tr>\n",
              "      <th>1352</th>\n",
              "      <td>я хотеть судно попасть на корабль</td>\n",
              "      <td>nothing</td>\n",
              "    </tr>\n",
              "    <tr>\n",
              "      <th>1353</th>\n",
              "      <td>я хотеть попасть на катер</td>\n",
              "      <td>nothing</td>\n",
              "    </tr>\n",
              "    <tr>\n",
              "      <th>1354</th>\n",
              "      <td>я хотеть корабль на попасть</td>\n",
              "      <td>nothing</td>\n",
              "    </tr>\n",
              "    <tr>\n",
              "      <th>1355</th>\n",
              "      <td>я хотеть очутиться на корабль</td>\n",
              "      <td>nothing</td>\n",
              "    </tr>\n",
              "    <tr>\n",
              "      <th>1356</th>\n",
              "      <td>я хотеть попасть на корабль</td>\n",
              "      <td>nothing</td>\n",
              "    </tr>\n",
              "  </tbody>\n",
              "</table>\n",
              "<p>1357 rows × 2 columns</p>\n",
              "</div>\n",
              "      <button class=\"colab-df-convert\" onclick=\"convertToInteractive('df-dcb2af03-dad9-4af4-83eb-9283f50deacd')\"\n",
              "              title=\"Convert this dataframe to an interactive table.\"\n",
              "              style=\"display:none;\">\n",
              "        \n",
              "  <svg xmlns=\"http://www.w3.org/2000/svg\" height=\"24px\"viewBox=\"0 0 24 24\"\n",
              "       width=\"24px\">\n",
              "    <path d=\"M0 0h24v24H0V0z\" fill=\"none\"/>\n",
              "    <path d=\"M18.56 5.44l.94 2.06.94-2.06 2.06-.94-2.06-.94-.94-2.06-.94 2.06-2.06.94zm-11 1L8.5 8.5l.94-2.06 2.06-.94-2.06-.94L8.5 2.5l-.94 2.06-2.06.94zm10 10l.94 2.06.94-2.06 2.06-.94-2.06-.94-.94-2.06-.94 2.06-2.06.94z\"/><path d=\"M17.41 7.96l-1.37-1.37c-.4-.4-.92-.59-1.43-.59-.52 0-1.04.2-1.43.59L10.3 9.45l-7.72 7.72c-.78.78-.78 2.05 0 2.83L4 21.41c.39.39.9.59 1.41.59.51 0 1.02-.2 1.41-.59l7.78-7.78 2.81-2.81c.8-.78.8-2.07 0-2.86zM5.41 20L4 18.59l7.72-7.72 1.47 1.35L5.41 20z\"/>\n",
              "  </svg>\n",
              "      </button>\n",
              "      \n",
              "  <style>\n",
              "    .colab-df-container {\n",
              "      display:flex;\n",
              "      flex-wrap:wrap;\n",
              "      gap: 12px;\n",
              "    }\n",
              "\n",
              "    .colab-df-convert {\n",
              "      background-color: #E8F0FE;\n",
              "      border: none;\n",
              "      border-radius: 50%;\n",
              "      cursor: pointer;\n",
              "      display: none;\n",
              "      fill: #1967D2;\n",
              "      height: 32px;\n",
              "      padding: 0 0 0 0;\n",
              "      width: 32px;\n",
              "    }\n",
              "\n",
              "    .colab-df-convert:hover {\n",
              "      background-color: #E2EBFA;\n",
              "      box-shadow: 0px 1px 2px rgba(60, 64, 67, 0.3), 0px 1px 3px 1px rgba(60, 64, 67, 0.15);\n",
              "      fill: #174EA6;\n",
              "    }\n",
              "\n",
              "    [theme=dark] .colab-df-convert {\n",
              "      background-color: #3B4455;\n",
              "      fill: #D2E3FC;\n",
              "    }\n",
              "\n",
              "    [theme=dark] .colab-df-convert:hover {\n",
              "      background-color: #434B5C;\n",
              "      box-shadow: 0px 1px 3px 1px rgba(0, 0, 0, 0.15);\n",
              "      filter: drop-shadow(0px 1px 2px rgba(0, 0, 0, 0.3));\n",
              "      fill: #FFFFFF;\n",
              "    }\n",
              "  </style>\n",
              "\n",
              "      <script>\n",
              "        const buttonEl =\n",
              "          document.querySelector('#df-dcb2af03-dad9-4af4-83eb-9283f50deacd button.colab-df-convert');\n",
              "        buttonEl.style.display =\n",
              "          google.colab.kernel.accessAllowed ? 'block' : 'none';\n",
              "\n",
              "        async function convertToInteractive(key) {\n",
              "          const element = document.querySelector('#df-dcb2af03-dad9-4af4-83eb-9283f50deacd');\n",
              "          const dataTable =\n",
              "            await google.colab.kernel.invokeFunction('convertToInteractive',\n",
              "                                                     [key], {});\n",
              "          if (!dataTable) return;\n",
              "\n",
              "          const docLinkHtml = 'Like what you see? Visit the ' +\n",
              "            '<a target=\"_blank\" href=https://colab.research.google.com/notebooks/data_table.ipynb>data table notebook</a>'\n",
              "            + ' to learn more about interactive tables.';\n",
              "          element.innerHTML = '';\n",
              "          dataTable['output_type'] = 'display_data';\n",
              "          await google.colab.output.renderOutput(dataTable, element);\n",
              "          const docLink = document.createElement('div');\n",
              "          docLink.innerHTML = docLinkHtml;\n",
              "          element.appendChild(docLink);\n",
              "        }\n",
              "      </script>\n",
              "    </div>\n",
              "  </div>\n",
              "  "
            ]
          },
          "metadata": {},
          "execution_count": 22
        }
      ]
    },
    {
      "cell_type": "code",
      "source": [
        "df.to_csv('commands-w2v-version.csv')"
      ],
      "metadata": {
        "id": "ST0Mog46qAe1"
      },
      "execution_count": 23,
      "outputs": []
    },
    {
      "cell_type": "markdown",
      "source": [
        "## Currently Unused"
      ],
      "metadata": {
        "id": "iLRbDat4o7vj"
      }
    },
    {
      "cell_type": "markdown",
      "source": [
        "### Back Translation: other languages"
      ],
      "metadata": {
        "id": "tYZdVNw-pBgA"
      }
    },
    {
      "cell_type": "code",
      "source": [
        "def back_traslation(batch_texts: list, language_code: str):\n",
        "    \n",
        "    # load models\n",
        "    target_model_name = f'Helsinki-NLP/opus-mt-ru-{language_code}'\n",
        "    target_tokenizer = MarianTokenizer.from_pretrained(target_model_name)\n",
        "    target_model = MarianMTModel.from_pretrained(target_model_name)\n",
        "    back_model_name = f'Helsinki-NLP/opus-mt-{language_code}-ru'\n",
        "    back_tokenizer = MarianTokenizer.from_pretrained(back_model_name)\n",
        "    back_model = MarianMTModel.from_pretrained(back_model_name)\n",
        "    \n",
        "    # translate\n",
        "    translated_commands = perform_translation(original_commands, target_model, target_tokenizer, language_code)\n",
        "    back_translated_commands = perform_translation(translated_commands, back_model, back_tokenizer, 'ru')\n",
        "    return back_translated_commands\n",
        "    \n",
        "\n",
        "\n",
        "def perform_translation(batch_texts: list, model, tokenizer, target_language: str):\n",
        "    translated = model.generate(**tokenizer(batch_texts, return_tensors=\"pt\", padding=True))\n",
        "    translated_texts = [tokenizer.decode(t, skip_special_tokens=True) for t in translated]\n",
        "    return translated_texts"
      ],
      "metadata": {
        "id": "vdaQRnr5o6ME"
      },
      "execution_count": null,
      "outputs": []
    },
    {
      "cell_type": "code",
      "source": [
        "original_commands = ['подвинь корабль вправо',\n",
        " 'плыви вправо',\n",
        " 'плыву направо',\n",
        " 'двигаюсь кораблем вправо',\n",
        " 'право руля',\n",
        " 'уплыви вправо',\n",
        " 'отчаливаю направо',\n",
        " 'судно направо',\n",
        " 'мы поплывем правее', \n",
        " 'на лодке вправо',\n",
        " 'врубай мотор идем на восток',\n",
        " 'кораблем направо',\n",
        " 'я иду кораблем направо',\n",
        " 'корабль на клетку вправо',\n",
        " 'шаг правее кораблем']"
      ],
      "metadata": {
        "id": "wtEIUsl0pKM7"
      },
      "execution_count": null,
      "outputs": []
    },
    {
      "cell_type": "code",
      "source": [
        "# английский\n",
        "back_traslation(original_commands, 'en')"
      ],
      "metadata": {
        "id": "2XKHDb9RpMwf"
      },
      "execution_count": null,
      "outputs": []
    },
    {
      "cell_type": "code",
      "source": [
        "# французский\n",
        "back_traslation(original_commands, 'fr')"
      ],
      "metadata": {
        "id": "T35rcEVFpPzp"
      },
      "execution_count": null,
      "outputs": []
    },
    {
      "cell_type": "code",
      "source": [
        "# украинский\n",
        "back_traslation(original_commands, 'uk')"
      ],
      "metadata": {
        "id": "adUWJh-0pSEn"
      },
      "execution_count": null,
      "outputs": []
    },
    {
      "cell_type": "code",
      "source": [
        "# словенский (класс!)\n",
        "back_traslation(original_commands, 'sl')"
      ],
      "metadata": {
        "id": "YJbkzEtIpUGv"
      },
      "execution_count": null,
      "outputs": []
    },
    {
      "cell_type": "code",
      "source": [
        "# латышский\n",
        "back_traslation(original_commands, 'lv')"
      ],
      "metadata": {
        "id": "Cf3cTarMpWVo"
      },
      "execution_count": null,
      "outputs": []
    },
    {
      "cell_type": "code",
      "source": [
        "augmented_by_sl = merge([original_commands, back_traslation(original_commands, 'sl')])\n",
        "augmented_by_sl"
      ],
      "metadata": {
        "id": "kc1vHD9GpYN1"
      },
      "execution_count": null,
      "outputs": []
    },
    {
      "cell_type": "markdown",
      "source": [
        "### Тезаурус RuWordNet"
      ],
      "metadata": {
        "id": "KGD1DlWJpg1Q"
      }
    },
    {
      "cell_type": "markdown",
      "source": [
        "- [Тезаурус для русского языка](https://github.com/avidale/python-ruwordnet)\n",
        "- Основные сущности:\n",
        "    - Sense - одно слово/словосочетание с конкретным значением\n",
        "    - Synset - множество Sense'ов с одинаковыми значениями и  частью речи\n",
        "- Поддерживаются разлтичные отношения между синсетами:\n",
        "    <div>\n",
        "<img src=\"attachment:image.png\" width=\"700\"/>\n",
        "</div>"
      ],
      "metadata": {
        "id": "5ZWa-Q2qpp2q"
      }
    },
    {
      "cell_type": "code",
      "source": [
        "from ruwordnet import RuWordNet\n",
        "\n",
        "wn = RuWordNet()"
      ],
      "metadata": {
        "id": "vd42qxe5pel9"
      },
      "execution_count": null,
      "outputs": []
    },
    {
      "cell_type": "markdown",
      "source": [
        "В EDA использовались такие методы вместо генерации синонимов word2vec:"
      ],
      "metadata": {
        "id": "TxW3otXjp2UP"
      }
    },
    {
      "cell_type": "code",
      "source": [
        "def replace_with_related(words: list, n: int, relation_type: str):\n",
        "    \"\"\"\n",
        "    Replaces n random words with a synonym or hyponym \n",
        "    (based on relation_type param).\n",
        "    \"\"\"\n",
        "    new_words = words.copy()\n",
        "    words_to_replace = list()\n",
        "    word_position = dict()\n",
        "    for i, word in enumerate(words):\n",
        "        if word not in stop_words:\n",
        "            words_to_replace.append(word)\n",
        "        word_position[word] = i\n",
        "    random.shuffle(words_to_replace)\n",
        "    \n",
        "    replaced = 0\n",
        "    for replace_word in words_to_replace:\n",
        "        related = get_related(replace_word, relation_type)\n",
        "        if len(related) == 0:\n",
        "            continue\n",
        "        # pick random synonym/hyponym\n",
        "        new_word = format_command(random.choice(related))\n",
        "        new_words[word_position[replace_word]] = new_word\n",
        "        replaced += 1\n",
        "        if replaced == n:\n",
        "            break\n",
        "\n",
        "    return new_words\n",
        "\n",
        "def get_related(word: str, relation_type:str):\n",
        "    related = []\n",
        "    if (relation_type == 'synonym'):\n",
        "        for sense in wn.get_senses(word):\n",
        "            related.append(sense.synset.title)\n",
        "    else: # hyponyms\n",
        "        for sense in wn.get_senses(word):\n",
        "            for item in sense.synset.hyponyms:\n",
        "                related.append(item.title)\n",
        "    return related"
      ],
      "metadata": {
        "id": "pAlujGgApwY9"
      },
      "execution_count": null,
      "outputs": []
    }
  ]
}
