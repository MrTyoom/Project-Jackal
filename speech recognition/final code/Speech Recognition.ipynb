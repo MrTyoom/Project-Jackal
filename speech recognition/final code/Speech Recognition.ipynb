{
 "cells": [
  {
   "cell_type": "code",
   "execution_count": 1,
   "id": "c7b27a26",
   "metadata": {},
   "outputs": [],
   "source": [
    "import pyaudio\n",
    "import wave\n",
    "import speech_recognition\n",
    "\n",
    "def record_audio(rec_sec: int):\n",
    "    \"\"\" Records rec_sec-second audio and saves it to \"last_command.wav\" file \"\"\"\n",
    "    CHUNK = 1024\n",
    "    FRT = pyaudio.paInt16\n",
    "    CHAN = 1\n",
    "    RT = 16000\n",
    "    REC_SEC = rec_sec #длина записи\n",
    "    OUTPUT = \"last_command.wav\"\n",
    "\n",
    "    p = pyaudio.PyAudio()\n",
    "    stream = p.open(format=FRT,channels=CHAN,rate=RT,input=True,frames_per_buffer=CHUNK) # открываем поток для записи\n",
    "    # здесь показываем, что запись началась\n",
    "    print(\"rec, say something!\")\n",
    "    frames = []\n",
    "    for i in range(0, int(RT / CHUNK * REC_SEC)):\n",
    "        data = stream.read(CHUNK)\n",
    "        frames.append(data)\n",
    "    # здесь показываем, что запись завершилась\n",
    "    print(\"done\")\n",
    "    stream.stop_stream() # останавливаем запись \n",
    "    stream.close() # закрываем поток\n",
    "    p.terminate()\n",
    "    \n",
    "    w = wave.open(OUTPUT, 'wb')\n",
    "    w.setnchannels(CHAN)\n",
    "    w.setsampwidth(p.get_sample_size(FRT))\n",
    "    w.setframerate(RT)\n",
    "    w.writeframes(b''.join(frames))\n",
    "    w.close()\n",
    "    \n",
    "def speech_to_text():\n",
    "    \"\"\" Records voice command and returns its transcript\"\"\"\n",
    "    record_audio(8)\n",
    "    sample = speech_recognition.WavFile('last_command.wav')\n",
    "    recognizer = speech_recognition.Recognizer()\n",
    "    with sample as audio:\n",
    "        recognizer.adjust_for_ambient_noise(audio)\n",
    "        content = recognizer.record(audio)   \n",
    "    return recognizer.recognize_wit(content, key=\"OGHQHRSSYPUDUJHCYCWPWSRMP52ZGC32\")\n",
    "\n",
    "# s = speech_to_text()\n",
    "# print(s)"
   ]
  }
 ],
 "metadata": {
  "kernelspec": {
   "display_name": "Python 3 (ipykernel)",
   "language": "python",
   "name": "python3"
  },
  "language_info": {
   "codemirror_mode": {
    "name": "ipython",
    "version": 3
   },
   "file_extension": ".py",
   "mimetype": "text/x-python",
   "name": "python",
   "nbconvert_exporter": "python",
   "pygments_lexer": "ipython3",
   "version": "3.10.9"
  }
 },
 "nbformat": 4,
 "nbformat_minor": 5
}
